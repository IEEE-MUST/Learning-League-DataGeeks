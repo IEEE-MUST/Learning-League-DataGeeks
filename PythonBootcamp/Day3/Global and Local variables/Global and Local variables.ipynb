{
 "cells": [
  {
   "cell_type": "markdown",
   "id": "female-copyright",
   "metadata": {},
   "source": [
    "## Global and Local variables"
   ]
  },
  {
   "cell_type": "markdown",
   "id": "funny-hebrew",
   "metadata": {},
   "source": [
    "### Local Variables"
   ]
  },
  {
   "cell_type": "code",
   "execution_count": 1,
   "id": "employed-breach",
   "metadata": {},
   "outputs": [
    {
     "name": "stdout",
     "output_type": "stream",
     "text": [
      "Python is awesome\n"
     ]
    }
   ],
   "source": [
    "#If you create a variable with the same name inside a function,\n",
    "#this variable will be local, and can only be used inside the function. \n",
    "#The global variable with the same name will remain as it was, global and with the original value.\n",
    "\n",
    "def myfunc():\n",
    "    x=\"awesome\"\n",
    "    print(\"Python is \" + x)\n",
    "myfunc()"
   ]
  },
  {
   "cell_type": "markdown",
   "id": "analyzed-classics",
   "metadata": {},
   "source": [
    "### Global Variable"
   ]
  },
  {
   "cell_type": "code",
   "execution_count": 2,
   "id": "accepting-belgium",
   "metadata": {},
   "outputs": [
    {
     "name": "stdout",
     "output_type": "stream",
     "text": [
      "Python is fantastic\n",
      "Python is fantastic\n"
     ]
    }
   ],
   "source": [
    "#Variables that are created outside of a function are known as global variables.\n",
    "#Global variables can be used by everyone, both inside of functions and outside.\n",
    "\n",
    "\n",
    "x=\"fantastic\"\n",
    "\n",
    "def myfunc():\n",
    "    print(\"Python is \" + x)\n",
    "myfunc()\n",
    "\n",
    "\n",
    "\n",
    "\n",
    "\n",
    "def myfunc1():\n",
    "    print(\"Python is \" + x)\n",
    "myfunc1()"
   ]
  },
  {
   "cell_type": "code",
   "execution_count": 3,
   "id": "coral-mauritius",
   "metadata": {},
   "outputs": [
    {
     "name": "stdout",
     "output_type": "stream",
     "text": [
      "Python is awesome\n"
     ]
    }
   ],
   "source": [
    "def myfunc1():\n",
    "    global x\n",
    "    x=\"awesome\"\n",
    "    print(\"Python is \" + x)\n",
    "myfunc1()"
   ]
  }
 ],
 "metadata": {
  "kernelspec": {
   "display_name": "Python 3",
   "language": "python",
   "name": "python3"
  },
  "language_info": {
   "codemirror_mode": {
    "name": "ipython",
    "version": 3
   },
   "file_extension": ".py",
   "mimetype": "text/x-python",
   "name": "python",
   "nbconvert_exporter": "python",
   "pygments_lexer": "ipython3",
   "version": "3.8.3"
  }
 },
 "nbformat": 4,
 "nbformat_minor": 5
}
