{
 "cells": [
  {
   "cell_type": "markdown",
   "id": "90975e30-55b5-46cc-9af3-611c3104d858",
   "metadata": {},
   "source": [
    "### Lambda Functions: Normal functions with no name. Written in single line of code"
   ]
  },
  {
   "cell_type": "code",
   "execution_count": 1,
   "id": "c17e7a1a-32a6-4b64-af0f-27409e1e7876",
   "metadata": {},
   "outputs": [],
   "source": [
    "# Syntax-> lambda arguments : expression"
   ]
  },
  {
   "cell_type": "code",
   "execution_count": 12,
   "id": "ce6ea384-94fa-4463-bb86-61dc94061d30",
   "metadata": {},
   "outputs": [],
   "source": [
    "# normal function\n",
    "def square1(x): # square1 is the function name\n",
    "    return x*x"
   ]
  },
  {
   "cell_type": "code",
   "execution_count": 13,
   "id": "2e7aff99-8055-4e4c-96ce-0e59f438c046",
   "metadata": {},
   "outputs": [],
   "source": [
    "# lambda function\n",
    "square2 = lambda x : x*x "
   ]
  },
  {
   "cell_type": "code",
   "execution_count": 16,
   "id": "41816850-a58c-45cc-8e98-4cf98ae4e831",
   "metadata": {},
   "outputs": [],
   "source": [
    "# lambda functions are used without name with other functions like map and filter functions"
   ]
  },
  {
   "cell_type": "code",
   "execution_count": null,
   "id": "7b092485-6fbd-458f-9e68-777b2d4f02f4",
   "metadata": {},
   "outputs": [],
   "source": []
  }
 ],
 "metadata": {
  "kernelspec": {
   "display_name": "Python 3",
   "language": "python",
   "name": "python3"
  },
  "language_info": {
   "codemirror_mode": {
    "name": "ipython",
    "version": 3
   },
   "file_extension": ".py",
   "mimetype": "text/x-python",
   "name": "python",
   "nbconvert_exporter": "python",
   "pygments_lexer": "ipython3",
   "version": "3.8.5"
  }
 },
 "nbformat": 4,
 "nbformat_minor": 5
}
