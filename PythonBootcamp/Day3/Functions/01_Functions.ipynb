{
 "cells": [
  {
   "cell_type": "markdown",
   "id": "dated-gross",
   "metadata": {},
   "source": [
    "### Functions\n"
   ]
  },
  {
   "cell_type": "code",
   "execution_count": null,
   "id": "ambient-trigger",
   "metadata": {},
   "outputs": [],
   "source": [
    "#Functions\n",
    "#A function is a block of code which only runs when it is called.\n",
    "#You can pass data, known as parameters, into a function.\n",
    "#A function can return data as a result."
   ]
  },
  {
   "cell_type": "code",
   "execution_count": 7,
   "id": "alpha-reason",
   "metadata": {},
   "outputs": [
    {
     "name": "stdout",
     "output_type": "stream",
     "text": [
      "Enter no. 1 2\n",
      "Enter no. 2 4\n",
      "6\n"
     ]
    }
   ],
   "source": [
    "#Creating a function\n",
    "#Example- Addition of two numbers\n",
    "\n",
    "#1.function definition (keyword- def)\n",
    "#2.function call \n",
    "\n",
    "def add():\n",
    "    a=int(input(\"Enter no. 1 \"))\n",
    "    b=int (input(\"Enter no. 2 \"))\n",
    "    c=a+b\n",
    "    print(c)\n",
    "add()"
   ]
  },
  {
   "cell_type": "code",
   "execution_count": null,
   "id": "artistic-country",
   "metadata": {},
   "outputs": [],
   "source": [
    "#Arguments / Parameters\n",
    "#information which is supplied to a function \n",
    "def add(a,b):\n",
    "   \n",
    "    c=a+b\n",
    "    print(\"add\",c)\n",
    "add(5,6)\n",
    "\n",
    "\n"
   ]
  },
  {
   "cell_type": "code",
   "execution_count": 12,
   "id": "sorted-maria",
   "metadata": {},
   "outputs": [
    {
     "name": "stdout",
     "output_type": "stream",
     "text": [
      "Enter no. 1 3\n",
      "Enter no. 2 5\n",
      "add 8\n"
     ]
    }
   ],
   "source": [
    "def add(a,b):\n",
    "   \n",
    "    c=a+b\n",
    "    print(\"add\",c)\n",
    "a=int(input(\"Enter no. 1 \"))\n",
    "b=int (input(\"Enter no. 2 \"))\n",
    "add(a,b)"
   ]
  },
  {
   "cell_type": "code",
   "execution_count": 13,
   "id": "brave-czech",
   "metadata": {},
   "outputs": [
    {
     "name": "stdout",
     "output_type": "stream",
     "text": [
      "I am from India\n",
      "I am from Norway\n"
     ]
    }
   ],
   "source": [
    "#types of Arguments\n",
    "#1Default Parameter Value. If we call the function without argument, it uses the default value:\n",
    "\n",
    "def countryname(country=\"Norway\"):\n",
    "    print(\"I am from \" +country)\n",
    "countryname(\"India\")\n",
    "countryname()"
   ]
  },
  {
   "cell_type": "code",
   "execution_count": 14,
   "id": "manual-triple",
   "metadata": {},
   "outputs": [
    {
     "name": "stdout",
     "output_type": "stream",
     "text": [
      "My fav flower is:  rose\n"
     ]
    }
   ],
   "source": [
    "#Arbitary Functions\n",
    "#If you do not know how many arguments that will be passed into your function, add a * before the parameter name in the function definition.\n",
    "#This way the function will receive a tuple of arguments, and can access the items accordingly:\n",
    "\n",
    "def flowername(*names):\n",
    "    print(\"My fav flower is: \", names[2])\n",
    "flowername(\"lily\",\"lotus\", \"rose\", \"marigold\")\n"
   ]
  },
  {
   "cell_type": "code",
   "execution_count": 15,
   "id": "infectious-weapon",
   "metadata": {},
   "outputs": [
    {
     "name": "stdout",
     "output_type": "stream",
     "text": [
      "My fav colour is maroon\n"
     ]
    }
   ],
   "source": [
    "#Arbitary Keyword Arguments\n",
    "#If you do not know how many keyword arguments that will be passed into your function, add two asterisk: ** before the parameter name in the function definition.\n",
    "#This way the function will receive a dictionary of arguments, and can access the items accordingly:\n",
    "\n",
    "def colour(**choose):\n",
    "    print(\"My fav colour is \" + choose[\"reddish\"])\n",
    "colour(yellowish=\"yellow\", orangish= \"peach\", reddish=\"maroon\")"
   ]
  }
 ],
 "metadata": {
  "kernelspec": {
   "display_name": "Python 3",
   "language": "python",
   "name": "python3"
  },
  "language_info": {
   "codemirror_mode": {
    "name": "ipython",
    "version": 3
   },
   "file_extension": ".py",
   "mimetype": "text/x-python",
   "name": "python",
   "nbconvert_exporter": "python",
   "pygments_lexer": "ipython3",
   "version": "3.8.3"
  }
 },
 "nbformat": 4,
 "nbformat_minor": 5
}
