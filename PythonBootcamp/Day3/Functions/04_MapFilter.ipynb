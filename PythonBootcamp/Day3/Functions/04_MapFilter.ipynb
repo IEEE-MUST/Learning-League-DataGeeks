{
 "cells": [
  {
   "cell_type": "markdown",
   "id": "9ab4fceb-7ace-42ae-9770-0624724a6b34",
   "metadata": {},
   "source": [
    "### Map Function: Applies a function on each element of the iterable"
   ]
  },
  {
   "cell_type": "code",
   "execution_count": 1,
   "id": "a9185b5b-4bfc-402f-bf6a-975db895bdd6",
   "metadata": {},
   "outputs": [],
   "source": [
    "lis = [1,2,3,4]\n",
    "# I want to create a new list with squares of these numbers"
   ]
  },
  {
   "cell_type": "code",
   "execution_count": 2,
   "id": "ca785055-523a-403c-877f-fccda692b287",
   "metadata": {},
   "outputs": [
    {
     "name": "stdout",
     "output_type": "stream",
     "text": [
      "[1, 4, 9, 16]\n"
     ]
    }
   ],
   "source": [
    "# normal way\n",
    "new_lis = []\n",
    "for i in lis:\n",
    "    new_lis.append(i**2)\n",
    "print(new_lis)"
   ]
  },
  {
   "cell_type": "code",
   "execution_count": 3,
   "id": "19906748-7744-485e-902f-ed2c4563a1f9",
   "metadata": {},
   "outputs": [
    {
     "name": "stdout",
     "output_type": "stream",
     "text": [
      "[1, 4, 9, 16]\n"
     ]
    }
   ],
   "source": [
    "# using map function\n",
    "# Syntax-> map(function, iterable) --> returns map object\n",
    "# list(map(funciton, iterable)) --> returns list object\n",
    "new_lis2 = list(map(lambda x: x*x, lis))\n",
    "print(new_lis2)"
   ]
  },
  {
   "cell_type": "code",
   "execution_count": 4,
   "id": "e3f4a49a-b19e-4b64-9405-1cc74b6162cf",
   "metadata": {},
   "outputs": [
    {
     "name": "stdout",
     "output_type": "stream",
     "text": [
      "[4, 6, 5, 10]\n"
     ]
    }
   ],
   "source": [
    "# finding the length of each string in the list of strings\n",
    "words = ['agda','afgadf','thsdf','rafhhaiduk']\n",
    "length = list(map(len, words))\n",
    "print(length)"
   ]
  },
  {
   "cell_type": "markdown",
   "id": "184e8541-7114-47d0-a379-5cb873dbd9ce",
   "metadata": {},
   "source": [
    "### Filter function: Filter the elements in the iterable that returns True in the boolean function"
   ]
  },
  {
   "cell_type": "code",
   "execution_count": 5,
   "id": "6e0896a3-dfef-4fec-baa8-e641ff9067b1",
   "metadata": {},
   "outputs": [],
   "source": [
    "numbers = [9387,4325,7654,3453,654634]\n",
    "# want to create a list of elements that are even in numbers list"
   ]
  },
  {
   "cell_type": "code",
   "execution_count": 6,
   "id": "cf09c540-ee21-4865-9842-e8141c60f23f",
   "metadata": {},
   "outputs": [
    {
     "name": "stdout",
     "output_type": "stream",
     "text": [
      "[7654, 654634]\n"
     ]
    }
   ],
   "source": [
    "# normal way\n",
    "even = []\n",
    "for i in numbers:\n",
    "    if i%2==0:\n",
    "        even.append(i)\n",
    "print(even)"
   ]
  },
  {
   "cell_type": "code",
   "execution_count": 7,
   "id": "063f74f0-905e-477d-abc4-030476a3e5a4",
   "metadata": {},
   "outputs": [
    {
     "name": "stdout",
     "output_type": "stream",
     "text": [
      "[7654, 654634]\n"
     ]
    }
   ],
   "source": [
    "# Using filter funtion\n",
    "# Syntax-> filter(function, iterable)  function will return either True or False\n",
    "even2 = list(filter(lambda x: x%2==0, numbers))\n",
    "print(even2)"
   ]
  },
  {
   "cell_type": "code",
   "execution_count": null,
   "id": "5aa8a9f3-2192-409b-842d-853483720560",
   "metadata": {},
   "outputs": [],
   "source": []
  }
 ],
 "metadata": {
  "kernelspec": {
   "display_name": "Python 3",
   "language": "python",
   "name": "python3"
  },
  "language_info": {
   "codemirror_mode": {
    "name": "ipython",
    "version": 3
   },
   "file_extension": ".py",
   "mimetype": "text/x-python",
   "name": "python",
   "nbconvert_exporter": "python",
   "pygments_lexer": "ipython3",
   "version": "3.8.5"
  }
 },
 "nbformat": 4,
 "nbformat_minor": 5
}
