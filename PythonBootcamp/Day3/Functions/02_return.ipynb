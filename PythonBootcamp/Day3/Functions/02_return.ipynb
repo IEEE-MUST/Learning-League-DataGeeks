{
 "cells": [
  {
   "cell_type": "markdown",
   "id": "d43a95f4-87c8-4093-afe7-85f55c6b23fa",
   "metadata": {},
   "source": [
    "#### return keyword: return some information from the function"
   ]
  },
  {
   "cell_type": "code",
   "execution_count": 1,
   "id": "15c18409-689b-4bce-9315-b96247071b38",
   "metadata": {},
   "outputs": [],
   "source": [
    "def square(num):\n",
    "    return num * num"
   ]
  },
  {
   "cell_type": "code",
   "execution_count": 3,
   "id": "cbb3035a-b2ad-43d7-8166-210846cfe82b",
   "metadata": {},
   "outputs": [
    {
     "name": "stdout",
     "output_type": "stream",
     "text": [
      "Square of a = 25\n"
     ]
    }
   ],
   "source": [
    "a = 5\n",
    "print(\"Square of a =\", square(5)) # square(5) will return 25"
   ]
  },
  {
   "cell_type": "code",
   "execution_count": 4,
   "id": "b8c38ba9-fb37-4b0c-82c6-865de97b9c43",
   "metadata": {},
   "outputs": [],
   "source": [
    "# let's make a lottery function that returns the result\n",
    "def lottery(num):\n",
    "    if num%3 == 0 and num > 100:\n",
    "        return \"Winner\"\n",
    "    else:\n",
    "        return \"Better luck next time\""
   ]
  },
  {
   "cell_type": "code",
   "execution_count": 5,
   "id": "ea7b141d-c9e5-48ac-8e87-e27a09efb6b3",
   "metadata": {},
   "outputs": [
    {
     "name": "stdout",
     "output_type": "stream",
     "text": [
      "Lottery Result: Better luck next time\n"
     ]
    }
   ],
   "source": [
    "ticket_num = 2483875\n",
    "print(\"Lottery Result:\", lottery(ticket_num))"
   ]
  },
  {
   "cell_type": "code",
   "execution_count": 6,
   "id": "a1f9b83c-4193-47c9-9306-b6c4dea3081e",
   "metadata": {},
   "outputs": [],
   "source": [
    "# We don't have to use else \n",
    "def lottery(num):\n",
    "    if num%3 == 0 and num > 100:\n",
    "        return \"Winner\"\n",
    "    return \"Better luck next time\" # if the num is winner the function will not execute after return"
   ]
  },
  {
   "cell_type": "code",
   "execution_count": 7,
   "id": "2bc1415f-3331-452e-ba17-f70c1e3d7810",
   "metadata": {},
   "outputs": [
    {
     "name": "stdout",
     "output_type": "stream",
     "text": [
      "Lottery Result: Winner\n"
     ]
    }
   ],
   "source": [
    "ticket_num = 123\n",
    "print(\"Lottery Result:\", lottery(ticket_num))"
   ]
  },
  {
   "cell_type": "code",
   "execution_count": 9,
   "id": "571e0788-3dd9-4e49-8b20-a7c72af86740",
   "metadata": {},
   "outputs": [
    {
     "name": "stdout",
     "output_type": "stream",
     "text": [
      "None\n"
     ]
    }
   ],
   "source": [
    "# even if we don't use return the function will return None by default\n",
    "def add(a,b):\n",
    "    c = a+b\n",
    "\n",
    "print(add(5,6)) # it's printing None because the function returned None by default"
   ]
  },
  {
   "cell_type": "code",
   "execution_count": null,
   "id": "6a2cd474-e0e4-4341-9975-58daf0027c84",
   "metadata": {},
   "outputs": [],
   "source": []
  }
 ],
 "metadata": {
  "kernelspec": {
   "display_name": "Python 3",
   "language": "python",
   "name": "python3"
  },
  "language_info": {
   "codemirror_mode": {
    "name": "ipython",
    "version": 3
   },
   "file_extension": ".py",
   "mimetype": "text/x-python",
   "name": "python",
   "nbconvert_exporter": "python",
   "pygments_lexer": "ipython3",
   "version": "3.8.5"
  }
 },
 "nbformat": 4,
 "nbformat_minor": 5
}
