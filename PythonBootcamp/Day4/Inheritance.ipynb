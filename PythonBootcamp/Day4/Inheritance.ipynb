{
 "cells": [
  {
   "cell_type": "markdown",
   "id": "a414a22c-24cf-4e3d-8e7b-feba8266b4ed",
   "metadata": {},
   "source": [
    "### Inheritance: Inheritance allows us to inherit attributes and methods from parent class. "
   ]
  },
  {
   "cell_type": "code",
   "execution_count": 1,
   "id": "6c300028-7d9f-466b-8853-d58206ecc7cd",
   "metadata": {},
   "outputs": [],
   "source": [
    "class Animal:\n",
    "    Legs = 4\n",
    "    def __init__(self, species, name):\n",
    "        self.species = species\n",
    "        self.name = name\n",
    "    \n",
    "    def hello(self):\n",
    "        return f'Hello {self.name}, the {self.species}'\n",
    "\n",
    "class Human(Animal):\n",
    "    Legs = 2\n",
    "    \n",
    "    def __init__(self, species, name, profession):\n",
    "        super().__init__(species, name)\n",
    "        self.profession = profession\n",
    "    \n",
    "    def change_profession(self, new_prof):\n",
    "        self.profession = new_prof"
   ]
  },
  {
   "cell_type": "code",
   "execution_count": 6,
   "id": "61acdca2-068b-4aca-94a9-9ef6c7d3760f",
   "metadata": {},
   "outputs": [],
   "source": [
    "Koya = Animal(\"Koala\", \"Koya\")"
   ]
  },
  {
   "cell_type": "code",
   "execution_count": 7,
   "id": "8bfbc120-9094-444d-9f7f-6602cc0f2b24",
   "metadata": {},
   "outputs": [
    {
     "data": {
      "text/plain": [
       "4"
      ]
     },
     "execution_count": 7,
     "metadata": {},
     "output_type": "execute_result"
    }
   ],
   "source": [
    "Koya.Legs"
   ]
  },
  {
   "cell_type": "code",
   "execution_count": 8,
   "id": "a2ed8b96-5b09-4221-bcab-d9b23c5a65e5",
   "metadata": {},
   "outputs": [
    {
     "data": {
      "text/plain": [
       "'Koya'"
      ]
     },
     "execution_count": 8,
     "metadata": {},
     "output_type": "execute_result"
    }
   ],
   "source": [
    "Koya.name"
   ]
  },
  {
   "cell_type": "code",
   "execution_count": 10,
   "id": "10c5a384-4ad6-4aea-85ef-0a7ee22f0565",
   "metadata": {},
   "outputs": [
    {
     "data": {
      "text/plain": [
       "'Hello Koya, the Koala'"
      ]
     },
     "execution_count": 10,
     "metadata": {},
     "output_type": "execute_result"
    }
   ],
   "source": [
    "Koya.hello()"
   ]
  },
  {
   "cell_type": "code",
   "execution_count": 29,
   "id": "22e9b47e-48f9-49e6-b1a1-102d9cde24bd",
   "metadata": {},
   "outputs": [],
   "source": [
    "M = Human('Human', 'Meenal', 'Student')"
   ]
  },
  {
   "cell_type": "code",
   "execution_count": 23,
   "id": "2f166006-0cbd-4f58-81e4-00da089754c3",
   "metadata": {},
   "outputs": [
    {
     "data": {
      "text/plain": [
       "'Hello Meenal, the Human'"
      ]
     },
     "execution_count": 23,
     "metadata": {},
     "output_type": "execute_result"
    }
   ],
   "source": [
    "M.hello()"
   ]
  },
  {
   "cell_type": "code",
   "execution_count": 34,
   "id": "d73f41f0-4a83-4982-b387-7774672badd3",
   "metadata": {},
   "outputs": [
    {
     "data": {
      "text/plain": [
       "'Engineer'"
      ]
     },
     "execution_count": 34,
     "metadata": {},
     "output_type": "execute_result"
    }
   ],
   "source": [
    "M.profession"
   ]
  },
  {
   "cell_type": "code",
   "execution_count": 33,
   "id": "186d3a67-96c2-408b-891e-23e6ddd60ee7",
   "metadata": {},
   "outputs": [],
   "source": [
    "M.change_profession('Engineer')"
   ]
  },
  {
   "cell_type": "code",
   "execution_count": 25,
   "id": "f93a8525-2356-4400-89dd-8cd37b523582",
   "metadata": {},
   "outputs": [
    {
     "name": "stdout",
     "output_type": "stream",
     "text": [
      "Help on Human in module __main__ object:\n",
      "\n",
      "class Human(Animal)\n",
      " |  Human(species, name, profession)\n",
      " |  \n",
      " |  Method resolution order:\n",
      " |      Human\n",
      " |      Animal\n",
      " |      builtins.object\n",
      " |  \n",
      " |  Methods defined here:\n",
      " |  \n",
      " |  __init__(self, species, name, profession)\n",
      " |      Initialize self.  See help(type(self)) for accurate signature.\n",
      " |  \n",
      " |  ----------------------------------------------------------------------\n",
      " |  Data and other attributes defined here:\n",
      " |  \n",
      " |  Legs = 2\n",
      " |  \n",
      " |  ----------------------------------------------------------------------\n",
      " |  Methods inherited from Animal:\n",
      " |  \n",
      " |  hello(self)\n",
      " |  \n",
      " |  ----------------------------------------------------------------------\n",
      " |  Data descriptors inherited from Animal:\n",
      " |  \n",
      " |  __dict__\n",
      " |      dictionary for instance variables (if defined)\n",
      " |  \n",
      " |  __weakref__\n",
      " |      list of weak references to the object (if defined)\n",
      "\n"
     ]
    }
   ],
   "source": [
    "help(M)"
   ]
  },
  {
   "cell_type": "code",
   "execution_count": 35,
   "id": "01715fb4-9651-4492-bd6d-260360a22a1b",
   "metadata": {},
   "outputs": [
    {
     "data": {
      "text/plain": [
       "True"
      ]
     },
     "execution_count": 35,
     "metadata": {},
     "output_type": "execute_result"
    }
   ],
   "source": [
    "isinstance(M, Human)"
   ]
  },
  {
   "cell_type": "code",
   "execution_count": 36,
   "id": "4b7946e5-307d-44e8-b40a-8d5e971c05a3",
   "metadata": {},
   "outputs": [
    {
     "data": {
      "text/plain": [
       "True"
      ]
     },
     "execution_count": 36,
     "metadata": {},
     "output_type": "execute_result"
    }
   ],
   "source": [
    "isinstance(M, Animal)"
   ]
  },
  {
   "cell_type": "code",
   "execution_count": 37,
   "id": "317720a3-542c-45a6-b55e-f8ec2cf80360",
   "metadata": {},
   "outputs": [
    {
     "data": {
      "text/plain": [
       "True"
      ]
     },
     "execution_count": 37,
     "metadata": {},
     "output_type": "execute_result"
    }
   ],
   "source": [
    "issubclass(Human, Animal)"
   ]
  },
  {
   "cell_type": "code",
   "execution_count": 38,
   "id": "5ef814cd-81a4-4fe4-b889-5c464fc76a05",
   "metadata": {},
   "outputs": [
    {
     "data": {
      "text/plain": [
       "False"
      ]
     },
     "execution_count": 38,
     "metadata": {},
     "output_type": "execute_result"
    }
   ],
   "source": [
    "issubclass(Animal, Human)"
   ]
  },
  {
   "cell_type": "code",
   "execution_count": null,
   "id": "664991c0-cd72-4523-838b-d4056ca9eb3e",
   "metadata": {},
   "outputs": [],
   "source": []
  }
 ],
 "metadata": {
  "kernelspec": {
   "display_name": "Python 3",
   "language": "python",
   "name": "python3"
  },
  "language_info": {
   "codemirror_mode": {
    "name": "ipython",
    "version": 3
   },
   "file_extension": ".py",
   "mimetype": "text/x-python",
   "name": "python",
   "nbconvert_exporter": "python",
   "pygments_lexer": "ipython3",
   "version": "3.8.5"
  }
 },
 "nbformat": 4,
 "nbformat_minor": 5
}
