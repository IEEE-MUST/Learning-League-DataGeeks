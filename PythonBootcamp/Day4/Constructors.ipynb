{
 "cells": [
  {
   "cell_type": "markdown",
   "id": "spanish-ethernet",
   "metadata": {},
   "source": [
    "## Constructors"
   ]
  },
  {
   "cell_type": "code",
   "execution_count": 1,
   "id": "nervous-museum",
   "metadata": {},
   "outputs": [],
   "source": [
    "#Constructor without parameter\n",
    "#By using the “self” keyword we can access the attributes and methods of the class. \n",
    "#It is useful in method definitions and in variable initialization. The “self” is explicitly used every time we define a method.\n",
    "#Instance attributes refer to the attributes inside the constructor method i.e self.model and self.color. \n",
    "#And, Class attributes refer to the attributes outside the constructor method .\n",
    "\n",
    "class Car:\n",
    "    car_type = \"Sedan\"                 #class attribute\n",
    "    def __init__(self, name, color):\n",
    "        self.name = name               #instance attribute   \n",
    "        self.color = color             #instance attribute"
   ]
  },
  {
   "cell_type": "code",
   "execution_count": 2,
   "id": "bottom-reduction",
   "metadata": {},
   "outputs": [
    {
     "name": "stdout",
     "output_type": "stream",
     "text": [
      "Realme X\n"
     ]
    }
   ],
   "source": [
    "#Constructor without parameter\n",
    "class Mobile:\n",
    "  \n",
    "    # default constructor    #constructor method\n",
    "    def __init__(self):\n",
    "        self.model = \"Realme X\"\n",
    "  \n",
    "    # a method for printing data members\n",
    "    def print_model(self):    #instance method\n",
    "        print(self.model)\n",
    "  \n",
    "  \n",
    "# creating object of the class\n",
    "realme= Mobile()\n",
    "  \n",
    "# calling the instance method using the object obj\n",
    "realme.print_model()"
   ]
  },
  {
   "cell_type": "code",
   "execution_count": 4,
   "id": "passing-excellence",
   "metadata": {},
   "outputs": [
    {
     "name": "stdout",
     "output_type": "stream",
     "text": [
      "Realme x\n",
      "Realme x 50\n",
      "50\n"
     ]
    }
   ],
   "source": [
    "#Constructor with parameter\n",
    "class Mobile:\n",
    "    def __init__(self, m):\n",
    "        self.model=m\n",
    "        print(self.model)\n",
    "        \n",
    "realme=Mobile('Realme x')\n",
    "\n",
    "\n",
    "\n",
    "class Mobile:\n",
    "    def __init__(self, m, v=80):\n",
    "        self.model=m\n",
    "        self.volume=v\n",
    "        print(self.model, self.volume)\n",
    "        print(self.volume)\n",
    "realme=Mobile('Realme x', 50)\n"
   ]
  },
  {
   "cell_type": "code",
   "execution_count": null,
   "id": "authentic-intellectual",
   "metadata": {},
   "outputs": [],
   "source": []
  }
 ],
 "metadata": {
  "kernelspec": {
   "display_name": "Python 3",
   "language": "python",
   "name": "python3"
  },
  "language_info": {
   "codemirror_mode": {
    "name": "ipython",
    "version": 3
   },
   "file_extension": ".py",
   "mimetype": "text/x-python",
   "name": "python",
   "nbconvert_exporter": "python",
   "pygments_lexer": "ipython3",
   "version": "3.8.3"
  }
 },
 "nbformat": 4,
 "nbformat_minor": 5
}
