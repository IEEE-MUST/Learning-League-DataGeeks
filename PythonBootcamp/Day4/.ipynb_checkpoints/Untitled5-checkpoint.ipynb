{
 "cells": [
  {
   "cell_type": "code",
   "execution_count": 26,
   "id": "6c300028-7d9f-466b-8853-d58206ecc7cd",
   "metadata": {},
   "outputs": [],
   "source": [
    "class Animal:\n",
    "    Legs = 4\n",
    "    def __init__(self, species, name):\n",
    "        self.species = species\n",
    "        self.name = name\n",
    "    \n",
    "    def hello(self):\n",
    "        return f'Hello {self.name}, the {self.species}'\n",
    "\n",
    "class Human(Animal):\n",
    "    Legs = 2\n",
    "    \n",
    "    def __init__(self, species, name, profession):\n",
    "        super().__init__(species, name)\n",
    "        self.profession = profession\n",
    "    \n",
    "    def change_profession(self, new_prof):\n",
    "        self.profession = new_prof"
   ]
  },
  {
   "cell_type": "code",
   "execution_count": 6,
   "id": "61acdca2-068b-4aca-94a9-9ef6c7d3760f",
   "metadata": {},
   "outputs": [],
   "source": [
    "Koya = Animal(\"Koala\", \"Koya\")"
   ]
  },
  {
   "cell_type": "code",
   "execution_count": 7,
   "id": "8bfbc120-9094-444d-9f7f-6602cc0f2b24",
   "metadata": {},
   "outputs": [
    {
     "data": {
      "text/plain": [
       "4"
      ]
     },
     "execution_count": 7,
     "metadata": {},
     "output_type": "execute_result"
    }
   ],
   "source": [
    "Koya.Legs"
   ]
  },
  {
   "cell_type": "code",
   "execution_count": 8,
   "id": "a2ed8b96-5b09-4221-bcab-d9b23c5a65e5",
   "metadata": {},
   "outputs": [
    {
     "data": {
      "text/plain": [
       "'Koya'"
      ]
     },
     "execution_count": 8,
     "metadata": {},
     "output_type": "execute_result"
    }
   ],
   "source": [
    "Koya.name"
   ]
  },
  {
   "cell_type": "code",
   "execution_count": 10,
   "id": "10c5a384-4ad6-4aea-85ef-0a7ee22f0565",
   "metadata": {},
   "outputs": [
    {
     "data": {
      "text/plain": [
       "'Hello Koya, the Koala'"
      ]
     },
     "execution_count": 10,
     "metadata": {},
     "output_type": "execute_result"
    }
   ],
   "source": [
    "Koya.hello()"
   ]
  },
  {
   "cell_type": "code",
   "execution_count": 29,
   "id": "22e9b47e-48f9-49e6-b1a1-102d9cde24bd",
   "metadata": {},
   "outputs": [],
   "source": [
    "M = Human('Human', 'Meenal', 'Student')"
   ]
  },
  {
   "cell_type": "code",
   "execution_count": 23,
   "id": "2f166006-0cbd-4f58-81e4-00da089754c3",
   "metadata": {},
   "outputs": [
    {
     "data": {
      "text/plain": [
       "'Hello Meenal, the Human'"
      ]
     },
     "execution_count": 23,
     "metadata": {},
     "output_type": "execute_result"
    }
   ],
   "source": [
    "M.hello()"
   ]
  },
  {
   "cell_type": "code",
   "execution_count": 34,
   "id": "d73f41f0-4a83-4982-b387-7774672badd3",
   "metadata": {},
   "outputs": [
    {
     "data": {
      "text/plain": [
       "'Engineer'"
      ]
     },
     "execution_count": 34,
     "metadata": {},
     "output_type": "execute_result"
    }
   ],
   "source": [
    "M.profession"
   ]
  },
  {
   "cell_type": "code",
   "execution_count": 33,
   "id": "186d3a67-96c2-408b-891e-23e6ddd60ee7",
   "metadata": {},
   "outputs": [],
   "source": [
    "M.change_profession('Engineer')"
   ]
  },
  {
   "cell_type": "code",
   "execution_count": 25,
   "id": "f93a8525-2356-4400-89dd-8cd37b523582",
   "metadata": {},
   "outputs": [
    {
     "name": "stdout",
     "output_type": "stream",
     "text": [
      "Help on Human in module __main__ object:\n",
      "\n",
      "class Human(Animal)\n",
      " |  Human(species, name, profession)\n",
      " |  \n",
      " |  Method resolution order:\n",
      " |      Human\n",
      " |      Animal\n",
      " |      builtins.object\n",
      " |  \n",
      " |  Methods defined here:\n",
      " |  \n",
      " |  __init__(self, species, name, profession)\n",
      " |      Initialize self.  See help(type(self)) for accurate signature.\n",
      " |  \n",
      " |  ----------------------------------------------------------------------\n",
      " |  Data and other attributes defined here:\n",
      " |  \n",
      " |  Legs = 2\n",
      " |  \n",
      " |  ----------------------------------------------------------------------\n",
      " |  Methods inherited from Animal:\n",
      " |  \n",
      " |  hello(self)\n",
      " |  \n",
      " |  ----------------------------------------------------------------------\n",
      " |  Data descriptors inherited from Animal:\n",
      " |  \n",
      " |  __dict__\n",
      " |      dictionary for instance variables (if defined)\n",
      " |  \n",
      " |  __weakref__\n",
      " |      list of weak references to the object (if defined)\n",
      "\n"
     ]
    }
   ],
   "source": [
    "help(M)"
   ]
  },
  {
   "cell_type": "code",
   "execution_count": 35,
   "id": "01715fb4-9651-4492-bd6d-260360a22a1b",
   "metadata": {},
   "outputs": [
    {
     "data": {
      "text/plain": [
       "True"
      ]
     },
     "execution_count": 35,
     "metadata": {},
     "output_type": "execute_result"
    }
   ],
   "source": [
    "isinstance(M, Human)"
   ]
  },
  {
   "cell_type": "code",
   "execution_count": 36,
   "id": "4b7946e5-307d-44e8-b40a-8d5e971c05a3",
   "metadata": {},
   "outputs": [
    {
     "data": {
      "text/plain": [
       "True"
      ]
     },
     "execution_count": 36,
     "metadata": {},
     "output_type": "execute_result"
    }
   ],
   "source": [
    "isinstance(M, Animal)"
   ]
  },
  {
   "cell_type": "code",
   "execution_count": 37,
   "id": "317720a3-542c-45a6-b55e-f8ec2cf80360",
   "metadata": {},
   "outputs": [
    {
     "data": {
      "text/plain": [
       "True"
      ]
     },
     "execution_count": 37,
     "metadata": {},
     "output_type": "execute_result"
    }
   ],
   "source": [
    "issubclass(Human, Animal)"
   ]
  },
  {
   "cell_type": "code",
   "execution_count": 38,
   "id": "5ef814cd-81a4-4fe4-b889-5c464fc76a05",
   "metadata": {},
   "outputs": [
    {
     "data": {
      "text/plain": [
       "False"
      ]
     },
     "execution_count": 38,
     "metadata": {},
     "output_type": "execute_result"
    }
   ],
   "source": [
    "issubclass(Animal, Human)"
   ]
  },
  {
   "cell_type": "code",
   "execution_count": 39,
   "id": "a7aabdf0-780f-449e-b465-51894bc64b02",
   "metadata": {},
   "outputs": [
    {
     "data": {
      "text/plain": [
       "int"
      ]
     },
     "execution_count": 39,
     "metadata": {},
     "output_type": "execute_result"
    }
   ],
   "source": [
    "# Duck Typing \n",
    "a = 100\n",
    "type(a)"
   ]
  },
  {
   "cell_type": "code",
   "execution_count": 40,
   "id": "61e16446-2f48-4a45-81ee-845be09ce4de",
   "metadata": {},
   "outputs": [
    {
     "data": {
      "text/plain": [
       "str"
      ]
     },
     "execution_count": 40,
     "metadata": {},
     "output_type": "execute_result"
    }
   ],
   "source": [
    "a = 'Ruchi'\n",
    "type(a)"
   ]
  },
  {
   "cell_type": "code",
   "execution_count": 41,
   "id": "0b942ed6-9e02-493d-85f3-7998983726e1",
   "metadata": {},
   "outputs": [],
   "source": [
    "class Circle:\n",
    "    def draw(self):\n",
    "        print(\"Draw a circle\")\n",
    "class Square:\n",
    "    def draw(self):\n",
    "        print(\"Draw a square\")    \n",
    "class Triangle:\n",
    "    def draw_color(self):\n",
    "        print(\"Draw a triangle and color it\")"
   ]
  },
  {
   "cell_type": "code",
   "execution_count": 42,
   "id": "09d624c2-0c32-4d0d-8c38-74f3b1008f69",
   "metadata": {},
   "outputs": [],
   "source": [
    "ob1 = Circle()\n",
    "ob2 = Square()\n",
    "ob3 = Triangle()"
   ]
  },
  {
   "cell_type": "code",
   "execution_count": 43,
   "id": "8084c1f1-3e3f-447c-a296-c7791e893d4b",
   "metadata": {},
   "outputs": [
    {
     "name": "stdout",
     "output_type": "stream",
     "text": [
      "Draw a circle\n"
     ]
    }
   ],
   "source": [
    "ob1.draw()"
   ]
  },
  {
   "cell_type": "code",
   "execution_count": 44,
   "id": "c7db1142-b009-4f37-8a17-09c4ccea1e70",
   "metadata": {},
   "outputs": [
    {
     "name": "stdout",
     "output_type": "stream",
     "text": [
      "Draw a square\n"
     ]
    }
   ],
   "source": [
    "ob2.draw()"
   ]
  },
  {
   "cell_type": "code",
   "execution_count": 46,
   "id": "b156ae8a-fe7f-4dca-8933-8a554fd2dc6b",
   "metadata": {},
   "outputs": [
    {
     "name": "stdout",
     "output_type": "stream",
     "text": [
      "Draw a triangle and color it\n"
     ]
    }
   ],
   "source": [
    "ob3.draw_color()"
   ]
  },
  {
   "cell_type": "code",
   "execution_count": 47,
   "id": "238dbe5d-426f-4b54-9594-7d0e940424d5",
   "metadata": {},
   "outputs": [
    {
     "data": {
      "text/plain": [
       "3"
      ]
     },
     "execution_count": 47,
     "metadata": {},
     "output_type": "execute_result"
    }
   ],
   "source": [
    "# Operator Overloading\n",
    "1 + 2"
   ]
  },
  {
   "cell_type": "code",
   "execution_count": 48,
   "id": "eb4e2799-7be0-41d0-a9d1-9e825c95e18e",
   "metadata": {},
   "outputs": [
    {
     "data": {
      "text/plain": [
       "'ab'"
      ]
     },
     "execution_count": 48,
     "metadata": {},
     "output_type": "execute_result"
    }
   ],
   "source": [
    "'a' + 'b'"
   ]
  },
  {
   "cell_type": "code",
   "execution_count": 59,
   "id": "4ad23910-15a1-4f5a-926d-1d7fc6896dfe",
   "metadata": {},
   "outputs": [],
   "source": [
    "class Point:\n",
    "    \n",
    "    def __init__(self, x, y):\n",
    "        self.x = x\n",
    "        self.y = y\n",
    "    \n",
    "    def __add__(self, other):\n",
    "        x = self.x + other.x\n",
    "        y = self.y + other.y\n",
    "        return Point(x,y)\n",
    "    def __repr__(self):\n",
    "        return f'Point {self.x, self.y}'\n",
    "        \n",
    "    "
   ]
  },
  {
   "cell_type": "code",
   "execution_count": 60,
   "id": "9dcc2925-25f7-4bf2-80c4-9290f9e1b45f",
   "metadata": {},
   "outputs": [],
   "source": [
    "p1 = Point(3,4)\n",
    "p2 = Point(4,8)"
   ]
  },
  {
   "cell_type": "code",
   "execution_count": 61,
   "id": "4906a3bb-3a30-47b3-83f8-00cde66c2466",
   "metadata": {},
   "outputs": [],
   "source": [
    "p3 = p1 + p2"
   ]
  },
  {
   "cell_type": "code",
   "execution_count": 62,
   "id": "cb5d580e-ac75-4ef6-9bee-b10ded224a9c",
   "metadata": {},
   "outputs": [
    {
     "data": {
      "text/plain": [
       "7"
      ]
     },
     "execution_count": 62,
     "metadata": {},
     "output_type": "execute_result"
    }
   ],
   "source": [
    "p3.x"
   ]
  },
  {
   "cell_type": "code",
   "execution_count": 63,
   "id": "365275cc-29fe-477a-ac93-fca84ebe141e",
   "metadata": {},
   "outputs": [
    {
     "data": {
      "text/plain": [
       "12"
      ]
     },
     "execution_count": 63,
     "metadata": {},
     "output_type": "execute_result"
    }
   ],
   "source": [
    "p3.y"
   ]
  },
  {
   "cell_type": "code",
   "execution_count": 64,
   "id": "9bce31c4-cec2-430d-ad40-18eec4762dc6",
   "metadata": {},
   "outputs": [
    {
     "data": {
      "text/plain": [
       "Point (7, 12)"
      ]
     },
     "execution_count": 64,
     "metadata": {},
     "output_type": "execute_result"
    }
   ],
   "source": [
    "p3"
   ]
  },
  {
   "cell_type": "code",
   "execution_count": 66,
   "id": "93b9c9c8-a324-4645-8f31-56ebddf28cc2",
   "metadata": {},
   "outputs": [
    {
     "data": {
      "text/plain": [
       "24"
      ]
     },
     "execution_count": 66,
     "metadata": {},
     "output_type": "execute_result"
    }
   ],
   "source": [
    "# Method Overloading\n",
    "def multiply(a,b):\n",
    "    return a*b\n",
    "def multiply(a,b,c):\n",
    "    return a*b*c\n",
    "multiply(2,3, 4)"
   ]
  },
  {
   "cell_type": "code",
   "execution_count": 67,
   "id": "08a5067b-89c9-4850-b399-f503535a3a74",
   "metadata": {},
   "outputs": [],
   "source": [
    "def multiply(a,b,c=None):\n",
    "    if c is not None:\n",
    "        return a*b*c\n",
    "    return a*b"
   ]
  },
  {
   "cell_type": "code",
   "execution_count": 68,
   "id": "980c7377-3c4a-4b4a-a4b3-1db8f5becbec",
   "metadata": {},
   "outputs": [
    {
     "data": {
      "text/plain": [
       "6"
      ]
     },
     "execution_count": 68,
     "metadata": {},
     "output_type": "execute_result"
    }
   ],
   "source": [
    "multiply(2,3)"
   ]
  },
  {
   "cell_type": "code",
   "execution_count": 76,
   "id": "1b222c61-55fc-4960-a460-2f6e3578b53e",
   "metadata": {},
   "outputs": [],
   "source": [
    "# Method overriding\n",
    "class A:\n",
    "    def display(self):\n",
    "        print(\"A\")\n",
    "class B(A):\n",
    "    def display(self):\n",
    "        print(\"B\")"
   ]
  },
  {
   "cell_type": "code",
   "execution_count": 77,
   "id": "80380e44-aae6-4fe8-93ad-e5d14439121a",
   "metadata": {},
   "outputs": [],
   "source": [
    "b = B()"
   ]
  },
  {
   "cell_type": "code",
   "execution_count": 78,
   "id": "28ba69d7-35dc-4fa3-8261-f3227692052c",
   "metadata": {},
   "outputs": [
    {
     "name": "stdout",
     "output_type": "stream",
     "text": [
      "B\n"
     ]
    }
   ],
   "source": [
    "b.display()"
   ]
  },
  {
   "cell_type": "code",
   "execution_count": null,
   "id": "664991c0-cd72-4523-838b-d4056ca9eb3e",
   "metadata": {},
   "outputs": [],
   "source": []
  }
 ],
 "metadata": {
  "kernelspec": {
   "display_name": "Python 3",
   "language": "python",
   "name": "python3"
  },
  "language_info": {
   "codemirror_mode": {
    "name": "ipython",
    "version": 3
   },
   "file_extension": ".py",
   "mimetype": "text/x-python",
   "name": "python",
   "nbconvert_exporter": "python",
   "pygments_lexer": "ipython3",
   "version": "3.8.5"
  }
 },
 "nbformat": 4,
 "nbformat_minor": 5
}
