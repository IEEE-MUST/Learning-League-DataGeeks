{
 "cells": [
  {
   "cell_type": "code",
   "execution_count": 1,
   "id": "39287ad6-6f25-49c2-a555-2da4f91c581a",
   "metadata": {},
   "outputs": [],
   "source": [
    "# Polymorphism - Many Forms\n",
    "# object have multiple forms"
   ]
  },
  {
   "cell_type": "code",
   "execution_count": 2,
   "id": "67250c7b-9441-43e6-a040-29522ec6f5e4",
   "metadata": {},
   "outputs": [],
   "source": [
    "# Duck Typing\n",
    "# Operator Overloading\n",
    "# Method Overloading \n",
    "# Method Overriding"
   ]
  },
  {
   "cell_type": "code",
   "execution_count": 9,
   "id": "a70f639a-54df-4c1e-8c78-0535b0afdae8",
   "metadata": {},
   "outputs": [],
   "source": [
    "# Duck typing -> The type does not matter \n",
    "# If it looks like a duck, swims like a duck, and quacks like a duck, \n",
    "# then it probably is a duck.\n",
    "a = 100\n",
    "a = 'Ruchi'"
   ]
  },
  {
   "cell_type": "code",
   "execution_count": 10,
   "id": "71e603ed-0977-4e68-b146-cb0a1b281ec5",
   "metadata": {},
   "outputs": [],
   "source": [
    "class Circle:\n",
    "    \n",
    "    def draw(self):\n",
    "        print(\"Draw a circle\")\n",
    "\n",
    "class Square:\n",
    "    \n",
    "    def draw(self):\n",
    "        print(\"Draw a square\")\n",
    "\n",
    "class Triangle:\n",
    "    \n",
    "    def draw_color(self):\n",
    "        print(\"Draw a triangle and color it\")"
   ]
  },
  {
   "cell_type": "code",
   "execution_count": 11,
   "id": "bca46dd0-5863-4fd8-bf84-44a15d580e26",
   "metadata": {},
   "outputs": [],
   "source": [
    "ob1 = Circle()\n",
    "ob2 = Square()\n",
    "ob3 = Triangle()"
   ]
  },
  {
   "cell_type": "code",
   "execution_count": 12,
   "id": "fcb68b58-0c64-4a2e-aa48-d2b668adee37",
   "metadata": {},
   "outputs": [
    {
     "name": "stdout",
     "output_type": "stream",
     "text": [
      "Draw a circle\n",
      "Draw a square\n"
     ]
    },
    {
     "ename": "AttributeError",
     "evalue": "'Triangle' object has no attribute 'draw'",
     "output_type": "error",
     "traceback": [
      "\u001b[0;31m---------------------------------------------------------------------------\u001b[0m",
      "\u001b[0;31mAttributeError\u001b[0m                            Traceback (most recent call last)",
      "\u001b[0;32m<ipython-input-12-461c008bfa83>\u001b[0m in \u001b[0;36m<module>\u001b[0;34m\u001b[0m\n\u001b[1;32m      1\u001b[0m \u001b[0;32mfor\u001b[0m \u001b[0mob\u001b[0m \u001b[0;32min\u001b[0m \u001b[0;34m(\u001b[0m\u001b[0mob1\u001b[0m\u001b[0;34m,\u001b[0m \u001b[0mob2\u001b[0m\u001b[0;34m,\u001b[0m \u001b[0mob3\u001b[0m\u001b[0;34m)\u001b[0m\u001b[0;34m:\u001b[0m\u001b[0;34m\u001b[0m\u001b[0;34m\u001b[0m\u001b[0m\n\u001b[0;32m----> 2\u001b[0;31m     \u001b[0mob\u001b[0m\u001b[0;34m.\u001b[0m\u001b[0mdraw\u001b[0m\u001b[0;34m(\u001b[0m\u001b[0;34m)\u001b[0m\u001b[0;34m\u001b[0m\u001b[0;34m\u001b[0m\u001b[0m\n\u001b[0m",
      "\u001b[0;31mAttributeError\u001b[0m: 'Triangle' object has no attribute 'draw'"
     ]
    }
   ],
   "source": [
    "for ob in (ob1, ob2, ob3):\n",
    "    ob.draw()"
   ]
  },
  {
   "cell_type": "code",
   "execution_count": 15,
   "id": "f5087a86-7ee6-4874-98ac-1eff50521263",
   "metadata": {},
   "outputs": [
    {
     "name": "stdout",
     "output_type": "stream",
     "text": [
      "3\n",
      "Ruchi Jain\n"
     ]
    }
   ],
   "source": [
    "# Operator Overloading Python -> One operator can be used differently\n",
    "print( 1 + 2 )\n",
    "print( \"Ruchi \" + \"Jain\" )\n",
    "# This change in behaviour of + operator according to type of \n",
    "# operands provided, is called Operator overloading"
   ]
  },
  {
   "cell_type": "code",
   "execution_count": 16,
   "id": "9a4d21dc-fe84-492b-841c-0608e7d0e134",
   "metadata": {},
   "outputs": [],
   "source": [
    "class Point:\n",
    "    def __init__(self, x, y):\n",
    "        self.x = x\n",
    "        self.y = y\n"
   ]
  },
  {
   "cell_type": "code",
   "execution_count": 17,
   "id": "837d7e79-4e0c-44ac-a03c-3dba4b277b03",
   "metadata": {},
   "outputs": [],
   "source": [
    "p1 = Point(1,2)\n",
    "p2 = Point(3,4)"
   ]
  },
  {
   "cell_type": "code",
   "execution_count": 18,
   "id": "7f7675f5-c63b-4225-bf91-db336eb94b9b",
   "metadata": {},
   "outputs": [
    {
     "ename": "TypeError",
     "evalue": "unsupported operand type(s) for +: 'Point' and 'Point'",
     "output_type": "error",
     "traceback": [
      "\u001b[0;31m---------------------------------------------------------------------------\u001b[0m",
      "\u001b[0;31mTypeError\u001b[0m                                 Traceback (most recent call last)",
      "\u001b[0;32m<ipython-input-18-a0c3d63f397c>\u001b[0m in \u001b[0;36m<module>\u001b[0;34m\u001b[0m\n\u001b[0;32m----> 1\u001b[0;31m \u001b[0mp1\u001b[0m \u001b[0;34m+\u001b[0m \u001b[0mp2\u001b[0m\u001b[0;34m\u001b[0m\u001b[0;34m\u001b[0m\u001b[0m\n\u001b[0m",
      "\u001b[0;31mTypeError\u001b[0m: unsupported operand type(s) for +: 'Point' and 'Point'"
     ]
    }
   ],
   "source": [
    "p1 + p2"
   ]
  },
  {
   "cell_type": "code",
   "execution_count": 25,
   "id": "b29644f5-65eb-4a3f-9211-6a53c10fab3e",
   "metadata": {},
   "outputs": [],
   "source": [
    "class Point:\n",
    "    def __init__(self, x, y):\n",
    "        self.x = x\n",
    "        self.y = y\n",
    "        \n",
    "    def __add__(self, point2): #special methods or dunder methods\n",
    "        x = self.x + point2.x\n",
    "        y = self.y + point2.y\n",
    "        return Point(x, y)\n",
    "    \n",
    "    def __repr__(self):\n",
    "        return f'Point({self.x}, {self.y})'"
   ]
  },
  {
   "cell_type": "code",
   "execution_count": 26,
   "id": "d62f0599-d7e7-452f-816d-d47c9bc2bb82",
   "metadata": {},
   "outputs": [],
   "source": [
    "p1 = Point(1,2)\n",
    "p2 = Point(3,4)"
   ]
  },
  {
   "cell_type": "code",
   "execution_count": 27,
   "id": "309a49f7-80c5-4a02-9b39-633d6194861f",
   "metadata": {},
   "outputs": [],
   "source": [
    "p3 = p1 + p2"
   ]
  },
  {
   "cell_type": "code",
   "execution_count": 28,
   "id": "4673dad7-8360-4b72-bcfa-0bf00ddc75db",
   "metadata": {},
   "outputs": [
    {
     "name": "stdout",
     "output_type": "stream",
     "text": [
      "4 6\n"
     ]
    }
   ],
   "source": [
    "print(p3.x, p3.y)"
   ]
  },
  {
   "cell_type": "code",
   "execution_count": 29,
   "id": "8d307a50-a166-4ed8-a759-aae64a853f86",
   "metadata": {},
   "outputs": [
    {
     "data": {
      "text/plain": [
       "Point(4, 6)"
      ]
     },
     "execution_count": 29,
     "metadata": {},
     "output_type": "execute_result"
    }
   ],
   "source": [
    "p3"
   ]
  },
  {
   "cell_type": "code",
   "execution_count": 30,
   "id": "2ada8ab0-2952-4d9a-94f9-b7e57e30e409",
   "metadata": {},
   "outputs": [],
   "source": [
    "# Method Overloading -> same name different number of arguments\n",
    "def multiply(a,b):\n",
    "    return a*b\n",
    "def multiply(a,b,c):\n",
    "    return a*b*c\n"
   ]
  },
  {
   "cell_type": "code",
   "execution_count": 31,
   "id": "7bcf8da4-a707-45d3-845d-b7ed7552b0a2",
   "metadata": {},
   "outputs": [
    {
     "ename": "TypeError",
     "evalue": "multiply() missing 1 required positional argument: 'c'",
     "output_type": "error",
     "traceback": [
      "\u001b[0;31m---------------------------------------------------------------------------\u001b[0m",
      "\u001b[0;31mTypeError\u001b[0m                                 Traceback (most recent call last)",
      "\u001b[0;32m<ipython-input-31-9af97c100063>\u001b[0m in \u001b[0;36m<module>\u001b[0;34m\u001b[0m\n\u001b[0;32m----> 1\u001b[0;31m \u001b[0mmultiply\u001b[0m\u001b[0;34m(\u001b[0m\u001b[0;36m4\u001b[0m\u001b[0;34m,\u001b[0m\u001b[0;36m3\u001b[0m\u001b[0;34m)\u001b[0m\u001b[0;34m\u001b[0m\u001b[0;34m\u001b[0m\u001b[0m\n\u001b[0m",
      "\u001b[0;31mTypeError\u001b[0m: multiply() missing 1 required positional argument: 'c'"
     ]
    }
   ],
   "source": [
    "multiply(4,3) # Python only remembers last definition, \n",
    "#it does not support method overloding in this way"
   ]
  },
  {
   "cell_type": "code",
   "execution_count": 32,
   "id": "9c6fcc66-8aed-4c5e-899f-9e6ba83ac25b",
   "metadata": {},
   "outputs": [],
   "source": [
    "def multiply2(a,b,c=None):\n",
    "    if c is not None:\n",
    "        return a*b*c\n",
    "    else:\n",
    "        return a*b"
   ]
  },
  {
   "cell_type": "code",
   "execution_count": 33,
   "id": "3e2bcfe1-1cf1-474e-9160-81125cfee0d4",
   "metadata": {},
   "outputs": [
    {
     "data": {
      "text/plain": [
       "12"
      ]
     },
     "execution_count": 33,
     "metadata": {},
     "output_type": "execute_result"
    }
   ],
   "source": [
    "multiply2(4,3)"
   ]
  },
  {
   "cell_type": "code",
   "execution_count": 34,
   "id": "8a4f582c-7020-4399-812d-4368f474fc02",
   "metadata": {},
   "outputs": [],
   "source": [
    "# Method Overriding\n",
    "class A:\n",
    "    def display(self):\n",
    "        print(\"A\")\n",
    "class B(A):\n",
    "    pass"
   ]
  },
  {
   "cell_type": "code",
   "execution_count": 35,
   "id": "65cf663c-0d61-477b-85cf-51677f3c0d41",
   "metadata": {},
   "outputs": [],
   "source": [
    "b = B()"
   ]
  },
  {
   "cell_type": "code",
   "execution_count": 36,
   "id": "9afa5877-d538-46fb-a2cb-ea9d7032c32a",
   "metadata": {},
   "outputs": [
    {
     "name": "stdout",
     "output_type": "stream",
     "text": [
      "A\n"
     ]
    }
   ],
   "source": [
    "b.display()"
   ]
  },
  {
   "cell_type": "code",
   "execution_count": 37,
   "id": "d7f1add9-b579-4037-bfa1-09cdfa95c331",
   "metadata": {},
   "outputs": [],
   "source": [
    "class A:\n",
    "    def display(self):\n",
    "        print(\"A\")\n",
    "class B(A):\n",
    "    def display(self):\n",
    "        print(\"B\")"
   ]
  },
  {
   "cell_type": "code",
   "execution_count": 38,
   "id": "94bc3023-1ccf-4631-89ab-272a07c679c0",
   "metadata": {},
   "outputs": [
    {
     "name": "stdout",
     "output_type": "stream",
     "text": [
      "B\n"
     ]
    }
   ],
   "source": [
    "b = B()\n",
    "b.display()"
   ]
  },
  {
   "cell_type": "code",
   "execution_count": 43,
   "id": "3b64d679-0dd2-4fb6-ae9d-5cab6cbbd157",
   "metadata": {},
   "outputs": [],
   "source": [
    "class A:\n",
    "    def display(self):\n",
    "        print(\"A\")\n",
    "class B(A):\n",
    "    def display(self):\n",
    "        A.display(self) # can use super also\n",
    "        print(\"B\")"
   ]
  },
  {
   "cell_type": "code",
   "execution_count": 44,
   "id": "84682a39-fe31-4ca3-9435-ceb4ab1e52eb",
   "metadata": {},
   "outputs": [
    {
     "name": "stdout",
     "output_type": "stream",
     "text": [
      "A\n",
      "B\n"
     ]
    }
   ],
   "source": [
    "b = B()\n",
    "b.display()"
   ]
  },
  {
   "cell_type": "code",
   "execution_count": null,
   "id": "301ec660-fea2-4b97-a505-898bc9ed11e9",
   "metadata": {},
   "outputs": [],
   "source": []
  }
 ],
 "metadata": {
  "kernelspec": {
   "display_name": "Python 3",
   "language": "python",
   "name": "python3"
  },
  "language_info": {
   "codemirror_mode": {
    "name": "ipython",
    "version": 3
   },
   "file_extension": ".py",
   "mimetype": "text/x-python",
   "name": "python",
   "nbconvert_exporter": "python",
   "pygments_lexer": "ipython3",
   "version": "3.8.5"
  }
 },
 "nbformat": 4,
 "nbformat_minor": 5
}
