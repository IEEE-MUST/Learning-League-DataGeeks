{
 "cells": [
  {
   "cell_type": "markdown",
   "id": "handy-niagara",
   "metadata": {},
   "source": [
    "## Methods\n"
   ]
  },
  {
   "cell_type": "code",
   "execution_count": 6,
   "id": "chicken-denial",
   "metadata": {},
   "outputs": [
    {
     "name": "stdout",
     "output_type": "stream",
     "text": [
      "The Honda City car gives the mileage of 24.1km/l\n",
      "The Honda City runs at the maximum speed of 150km/hr\n"
     ]
    }
   ],
   "source": [
    "#Example of Methods\n",
    "#So far we’ve added the properties of the car. Now it’s time to add some behavior. \n",
    "#Methods are the functions that we use to describe the behavior of the objects. \n",
    "#They are also defined inside a class. Look at the following code-\n",
    "\n",
    "class Car:   \n",
    "    car_type = \"Sedan\" \n",
    "\n",
    "    def __init__(self, name, mileage):\n",
    "        self.name = name \n",
    "        self.mileage = mileage \n",
    "\n",
    "    def description(self):                 \n",
    "        return f\"The {self.name} car gives the mileage of {self.mileage}km/l\"\n",
    "\n",
    "    def max_speed(self, speed):\n",
    "        return f\"The {self.name} runs at the maximum speed of {speed}km/hr\"\n",
    "#Notice that the additional parameter speed is not using the “self” keyword. Since speed is not an instance variable, \n",
    "#we don’t use the self keyword as its prefix.  \n",
    "\n",
    "\n",
    "obj2 = Car(\"Honda City\",24.1)\n",
    "print(obj2.description())\n",
    "print(obj2.max_speed(150))"
   ]
  },
  {
   "cell_type": "code",
   "execution_count": 1,
   "id": "egyptian-arabic",
   "metadata": {},
   "outputs": [],
   "source": [
    "#Note: Three important things to remember are-\n",
    "\n",
    "#1. You can create any number of objects of a class.\n",
    "#2. If the method requires n parameters and you do not pass the same number of arguments then an error will occur.\n",
    "#3. Order of the arguments matters."
   ]
  },
  {
   "cell_type": "code",
   "execution_count": 11,
   "id": "front-richards",
   "metadata": {},
   "outputs": [
    {
     "name": "stdout",
     "output_type": "stream",
     "text": [
      "First number = 1000\n",
      "Second number = 2000\n",
      "Addition of two numbers = 3000\n"
     ]
    }
   ],
   "source": [
    "#Example on Constructors and methods\n",
    "class Addition:\n",
    "    first = 0      \n",
    "    second = 0\n",
    "    answer = 0\n",
    "      \n",
    "    # parameterized constructor\n",
    "    def __init__(self, f, s):\n",
    "        self.first = f\n",
    "        self.second = s\n",
    "      \n",
    "    def display(self):\n",
    "        print(\"First number = \" + str(self.first))\n",
    "        print(\"Second number = \" + str(self.second))\n",
    "        print(\"Addition of two numbers = \" + str(self.answer))\n",
    "  \n",
    "    def calculate(self):\n",
    "        self.answer = self.first + self.second\n",
    "  \n",
    "# creating object of the class\n",
    "# this will invoke parameterized constructor\n",
    "obj = Addition(1000, 2000)\n",
    "  \n",
    "# perform Addition\n",
    "obj.calculate()\n",
    "  \n",
    "# display result\n",
    "obj.display()"
   ]
  },
  {
   "cell_type": "code",
   "execution_count": 9,
   "id": "hairy-hundred",
   "metadata": {},
   "outputs": [
    {
     "name": "stdout",
     "output_type": "stream",
     "text": [
      "driving\n"
     ]
    },
    {
     "ename": "AttributeError",
     "evalue": "'car' object has no attribute '__updatesoftware'",
     "output_type": "error",
     "traceback": [
      "\u001b[1;31m---------------------------------------------------------------------------\u001b[0m",
      "\u001b[1;31mAttributeError\u001b[0m                            Traceback (most recent call last)",
      "\u001b[1;32m<ipython-input-9-124beb9eb8fd>\u001b[0m in \u001b[0;36m<module>\u001b[1;34m\u001b[0m\n\u001b[0;32m      8\u001b[0m \u001b[0mblackcar\u001b[0m\u001b[1;33m=\u001b[0m\u001b[0mcar\u001b[0m\u001b[1;33m(\u001b[0m\u001b[1;33m)\u001b[0m\u001b[1;33m\u001b[0m\u001b[1;33m\u001b[0m\u001b[0m\n\u001b[0;32m      9\u001b[0m \u001b[0mblackcar\u001b[0m\u001b[1;33m.\u001b[0m\u001b[0mdrive\u001b[0m\u001b[1;33m(\u001b[0m\u001b[1;33m)\u001b[0m\u001b[1;33m\u001b[0m\u001b[1;33m\u001b[0m\u001b[0m\n\u001b[1;32m---> 10\u001b[1;33m \u001b[0mblackcar\u001b[0m\u001b[1;33m.\u001b[0m\u001b[0m__updatesoftware\u001b[0m\u001b[1;33m(\u001b[0m\u001b[1;33m)\u001b[0m\u001b[1;33m\u001b[0m\u001b[1;33m\u001b[0m\u001b[0m\n\u001b[0m",
      "\u001b[1;31mAttributeError\u001b[0m: 'car' object has no attribute '__updatesoftware'"
     ]
    }
   ],
   "source": [
    "class  car:\n",
    "    def __init__(self):\n",
    "        self.__updatesoftware()\n",
    "    def drive(self):\n",
    "        print(\"driving\")\n",
    "    def __updatesoftware(self):\n",
    "        print(\"Updating software\")\n",
    "blackcar=car()\n",
    "blackcar.drive()\n"
   ]
  },
  {
   "cell_type": "code",
   "execution_count": 3,
   "id": "continuous-snake",
   "metadata": {},
   "outputs": [],
   "source": [
    "#1. Creating more than one object\n"
   ]
  },
  {
   "cell_type": "code",
   "execution_count": 4,
   "id": "fluid-clone",
   "metadata": {},
   "outputs": [],
   "source": [
    "class Car:\n",
    "    def __init__(self, name, mileage):\n",
    "        self.name = name \n",
    "        self.mileage = mileage \n",
    "\n",
    "    def max_speed(self, speed):\n",
    "        return f\"The {self.name} runs at the maximum speed of {speed}km/hr\""
   ]
  },
  {
   "cell_type": "code",
   "execution_count": 5,
   "id": "bulgarian-conjunction",
   "metadata": {},
   "outputs": [
    {
     "name": "stdout",
     "output_type": "stream",
     "text": [
      "The Honda City runs at the maximum speed of 150km/hr\n",
      "The Skoda Octavia runs at the maximum speed of 210km/hr\n"
     ]
    }
   ],
   "source": [
    "Honda = Car(\"Honda City\",21.4)\n",
    "print(Honda.max_speed(150))\n",
    "\n",
    "Skoda = Car(\"Skoda Octavia\",13)\n",
    "print(Skoda.max_speed(210))"
   ]
  },
  {
   "cell_type": "code",
   "execution_count": 6,
   "id": "norwegian-minute",
   "metadata": {},
   "outputs": [],
   "source": [
    "#2. Passing the wrong number of arguments.\n"
   ]
  },
  {
   "cell_type": "code",
   "execution_count": 7,
   "id": "identified-multimedia",
   "metadata": {},
   "outputs": [],
   "source": [
    "class Car:\n",
    "\n",
    "    def __init__(self, name, mileage):\n",
    "        self.name = name \n",
    "        self.mileage = mileage"
   ]
  },
  {
   "cell_type": "code",
   "execution_count": 8,
   "id": "crucial-diary",
   "metadata": {},
   "outputs": [
    {
     "ename": "TypeError",
     "evalue": "__init__() missing 1 required positional argument: 'mileage'",
     "output_type": "error",
     "traceback": [
      "\u001b[1;31m---------------------------------------------------------------------------\u001b[0m",
      "\u001b[1;31mTypeError\u001b[0m                                 Traceback (most recent call last)",
      "\u001b[1;32m<ipython-input-8-b930d14cfd1e>\u001b[0m in \u001b[0;36m<module>\u001b[1;34m\u001b[0m\n\u001b[1;32m----> 1\u001b[1;33m \u001b[0mHonda\u001b[0m \u001b[1;33m=\u001b[0m \u001b[0mCar\u001b[0m\u001b[1;33m(\u001b[0m\u001b[1;34m\"Honda City\"\u001b[0m\u001b[1;33m)\u001b[0m\u001b[1;33m\u001b[0m\u001b[1;33m\u001b[0m\u001b[0m\n\u001b[0m\u001b[0;32m      2\u001b[0m \u001b[0mprint\u001b[0m\u001b[1;33m(\u001b[0m\u001b[0mHonda\u001b[0m\u001b[1;33m)\u001b[0m\u001b[1;33m\u001b[0m\u001b[1;33m\u001b[0m\u001b[0m\n",
      "\u001b[1;31mTypeError\u001b[0m: __init__() missing 1 required positional argument: 'mileage'"
     ]
    }
   ],
   "source": [
    "Honda = Car(\"Honda City\")\n",
    "print(Honda)"
   ]
  },
  {
   "cell_type": "code",
   "execution_count": 9,
   "id": "israeli-productivity",
   "metadata": {},
   "outputs": [],
   "source": [
    "#Since we did not provide the second argument, we got this error."
   ]
  },
  {
   "cell_type": "code",
   "execution_count": 10,
   "id": "light-collectible",
   "metadata": {},
   "outputs": [],
   "source": [
    "#3. Order of the arguments\n"
   ]
  },
  {
   "cell_type": "code",
   "execution_count": 11,
   "id": "considerable-origin",
   "metadata": {},
   "outputs": [],
   "source": [
    "class Car:\n",
    "\n",
    "    def __init__(self, name, mileage):\n",
    "        self.name = name \n",
    "        self.mileage = mileage \n",
    "\n",
    "    def description(self):                \n",
    "        return f\"The {self.name} car gives the mileage of {self.mileage}km/l\"\n"
   ]
  },
  {
   "cell_type": "code",
   "execution_count": 12,
   "id": "tough-opera",
   "metadata": {},
   "outputs": [
    {
     "name": "stdout",
     "output_type": "stream",
     "text": [
      "The 24.1 car gives the mileage of Honda Citykm/l\n"
     ]
    }
   ],
   "source": [
    "Honda = Car(24.1,\"Honda City\")\n",
    "print(Honda.description())\n",
    "\n",
    "#Messed up! Notice we changed the order of arguments."
   ]
  }
 ],
 "metadata": {
  "kernelspec": {
   "display_name": "Python 3",
   "language": "python",
   "name": "python3"
  },
  "language_info": {
   "codemirror_mode": {
    "name": "ipython",
    "version": 3
   },
   "file_extension": ".py",
   "mimetype": "text/x-python",
   "name": "python",
   "nbconvert_exporter": "python",
   "pygments_lexer": "ipython3",
   "version": "3.8.3"
  }
 },
 "nbformat": 4,
 "nbformat_minor": 5
}
