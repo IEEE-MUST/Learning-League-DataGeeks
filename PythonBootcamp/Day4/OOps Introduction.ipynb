{
 "cells": [
  {
   "cell_type": "markdown",
   "id": "narrow-jacksonville",
   "metadata": {},
   "source": [
    "### What is Object Oriented Programming"
   ]
  },
  {
   "cell_type": "code",
   "execution_count": 1,
   "id": "skilled-michigan",
   "metadata": {},
   "outputs": [],
   "source": [
    "#Object-Oriented Programming(OOP), is all about creating “objects”. An object is a group of interrelated variables and functions.\n",
    "#These variables are often referred to as properties of the object and functions are referred to as the behavior of the objects.\n",
    "#These objects provide a better and clear structure for the program.\n",
    "#For example, a car can be an object. If we consider the car as an object then its properties would be – its color, its model, its price, its brand, etc. \n",
    "#And its behavior/function would be acceleration, slowing down, gear change.\n"
   ]
  },
  {
   "cell_type": "markdown",
   "id": "hybrid-facility",
   "metadata": {},
   "source": [
    "### Major Python OOPs concept"
   ]
  },
  {
   "cell_type": "code",
   "execution_count": 2,
   "id": "minor-confidentiality",
   "metadata": {},
   "outputs": [],
   "source": [
    "#In this section, we will deep dive into the basic concepts of OOP. We will cover the following topics-\n",
    "#1. Class\n",
    "#2. Object\n",
    "#3. Method\n",
    "#4. Inheritance\n",
    "#5. Encapsulation\n",
    "#6. Polymorphism\n",
    "#7. Data Abstraction"
   ]
  },
  {
   "cell_type": "code",
   "execution_count": null,
   "id": "obvious-painting",
   "metadata": {},
   "outputs": [],
   "source": []
  }
 ],
 "metadata": {
  "kernelspec": {
   "display_name": "Python 3",
   "language": "python",
   "name": "python3"
  },
  "language_info": {
   "codemirror_mode": {
    "name": "ipython",
    "version": 3
   },
   "file_extension": ".py",
   "mimetype": "text/x-python",
   "name": "python",
   "nbconvert_exporter": "python",
   "pygments_lexer": "ipython3",
   "version": "3.8.3"
  }
 },
 "nbformat": 4,
 "nbformat_minor": 5
}
