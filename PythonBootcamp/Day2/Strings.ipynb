{
 "cells": [
  {
   "cell_type": "markdown",
   "id": "23c44e23-fe6b-406d-a10d-e1808412a7a2",
   "metadata": {},
   "source": [
    "#### Strings "
   ]
  },
  {
   "cell_type": "code",
   "execution_count": 1,
   "id": "8b1dd3a7-ee90-41d6-a465-5be7c9fa6cef",
   "metadata": {},
   "outputs": [
    {
     "name": "stdout",
     "output_type": "stream",
     "text": [
      "Type of a: <class 'str'>\n",
      "Type of b: <class 'str'>\n"
     ]
    }
   ],
   "source": [
    "# anything under single or double quotes is a string\n",
    "a = 'abc'\n",
    "b = \"123\"\n",
    "print(\"Type of a:\", type(a))\n",
    "print(\"Type of b:\", type(b))"
   ]
  },
  {
   "cell_type": "code",
   "execution_count": 3,
   "id": "8c9b9c14-a210-41af-adcd-b8c0bc52d661",
   "metadata": {},
   "outputs": [
    {
     "name": "stdout",
     "output_type": "stream",
     "text": [
      "a[0] = a\n"
     ]
    }
   ],
   "source": [
    "# Strings are indexed\n",
    "print(\"a[0] =\", a[0])"
   ]
  },
  {
   "cell_type": "code",
   "execution_count": 4,
   "id": "b4388bb1-b0ea-4a9a-934d-aa7b7362b925",
   "metadata": {},
   "outputs": [
    {
     "ename": "TypeError",
     "evalue": "'str' object does not support item assignment",
     "output_type": "error",
     "traceback": [
      "\u001b[0;31m---------------------------------------------------------------------------\u001b[0m",
      "\u001b[0;31mTypeError\u001b[0m                                 Traceback (most recent call last)",
      "\u001b[0;32m<ipython-input-4-1c8532a6da1c>\u001b[0m in \u001b[0;36m<module>\u001b[0;34m\u001b[0m\n\u001b[1;32m      1\u001b[0m \u001b[0;31m# Strings are immutable\u001b[0m\u001b[0;34m\u001b[0m\u001b[0;34m\u001b[0m\u001b[0;34m\u001b[0m\u001b[0m\n\u001b[0;32m----> 2\u001b[0;31m \u001b[0ma\u001b[0m\u001b[0;34m[\u001b[0m\u001b[0;36m0\u001b[0m\u001b[0;34m]\u001b[0m \u001b[0;34m=\u001b[0m \u001b[0;34m'd'\u001b[0m\u001b[0;34m\u001b[0m\u001b[0;34m\u001b[0m\u001b[0m\n\u001b[0m",
      "\u001b[0;31mTypeError\u001b[0m: 'str' object does not support item assignment"
     ]
    }
   ],
   "source": [
    "# Strings are immutable\n",
    "a[0] = 'd'"
   ]
  },
  {
   "cell_type": "code",
   "execution_count": 5,
   "id": "acff880b-5c69-4cd8-baf3-7e7619cd9af9",
   "metadata": {},
   "outputs": [
    {
     "name": "stdout",
     "output_type": "stream",
     "text": [
      "a\n",
      "b\n",
      "c\n"
     ]
    }
   ],
   "source": [
    "# using loop  in string\n",
    "for i in a:\n",
    "    print(i)"
   ]
  },
  {
   "cell_type": "code",
   "execution_count": 6,
   "id": "8113b373-e542-45e0-aa36-117ffefe3fe2",
   "metadata": {},
   "outputs": [
    {
     "name": "stdout",
     "output_type": "stream",
     "text": [
      "Capitalize: Abc\n"
     ]
    }
   ],
   "source": [
    "# string methods\n",
    "print(\"Capitalize:\", a.capitalize())"
   ]
  },
  {
   "cell_type": "code",
   "execution_count": 7,
   "id": "57eded44-f921-4d7a-b763-5a2e6f96c5db",
   "metadata": {},
   "outputs": [
    {
     "name": "stdout",
     "output_type": "stream",
     "text": [
      "Count of letter h in string c: 4\n"
     ]
    }
   ],
   "source": [
    "c = 'asdhifhaihsifhai'\n",
    "print(\"Count of letter h in string c:\", c.count('h'))"
   ]
  },
  {
   "cell_type": "code",
   "execution_count": 8,
   "id": "ae1ada37-5bea-4bb4-9502-b761038fda40",
   "metadata": {},
   "outputs": [
    {
     "name": "stdout",
     "output_type": "stream",
     "text": [
      "Does string c ends with letter h? False\n"
     ]
    }
   ],
   "source": [
    "print(\"Does string c ends with letter h?\", c.endswith('h'))"
   ]
  },
  {
   "cell_type": "code",
   "execution_count": 9,
   "id": "de3e15f6-c3f4-4d4c-a20e-0320d1a2927b",
   "metadata": {},
   "outputs": [
    {
     "name": "stdout",
     "output_type": "stream",
     "text": [
      "First occurence of letter h in string c at index: 3\n"
     ]
    }
   ],
   "source": [
    "print(\"First occurence of letter h in string c at index:\", c.find('h'))"
   ]
  },
  {
   "cell_type": "code",
   "execution_count": 10,
   "id": "73e2bc5f-f147-4d68-acfd-8ed8e1c02d03",
   "metadata": {},
   "outputs": [
    {
     "name": "stdout",
     "output_type": "stream",
     "text": [
      "wer\n",
      "qwertyuiop\n",
      "poiuytrewq\n",
      "out\n"
     ]
    }
   ],
   "source": [
    "# string slicing\n",
    "x ='qwertyuiop'\n",
    "print(x[1:4])\n",
    "print(x[:100])\n",
    "print(x[::-1])\n",
    "print(x[8:3:-2])"
   ]
  },
  {
   "cell_type": "code",
   "execution_count": 11,
   "id": "58b6f52f-b9c9-4e34-9f8e-c6187af100a5",
   "metadata": {},
   "outputs": [
    {
     "ename": "TypeError",
     "evalue": "can only concatenate str (not \"int\") to str",
     "output_type": "error",
     "traceback": [
      "\u001b[0;31m---------------------------------------------------------------------------\u001b[0m",
      "\u001b[0;31mTypeError\u001b[0m                                 Traceback (most recent call last)",
      "\u001b[0;32m<ipython-input-11-5d27f8dd509c>\u001b[0m in \u001b[0;36m<module>\u001b[0;34m\u001b[0m\n\u001b[1;32m      1\u001b[0m \u001b[0;31m# cannot use + with int and string together\u001b[0m\u001b[0;34m\u001b[0m\u001b[0;34m\u001b[0m\u001b[0;34m\u001b[0m\u001b[0m\n\u001b[0;32m----> 2\u001b[0;31m \u001b[0mprint\u001b[0m\u001b[0;34m(\u001b[0m\u001b[0;34m\"Ruchi\"\u001b[0m \u001b[0;34m+\u001b[0m \u001b[0;36m4\u001b[0m\u001b[0;34m)\u001b[0m\u001b[0;34m\u001b[0m\u001b[0;34m\u001b[0m\u001b[0m\n\u001b[0m",
      "\u001b[0;31mTypeError\u001b[0m: can only concatenate str (not \"int\") to str"
     ]
    }
   ],
   "source": [
    "# cannot use + with int and string together\n",
    "print(\"Ruchi\" + 4)"
   ]
  },
  {
   "cell_type": "code",
   "execution_count": 12,
   "id": "9120f76f-9ba4-474b-aba0-8683a4b949a8",
   "metadata": {},
   "outputs": [
    {
     "name": "stdout",
     "output_type": "stream",
     "text": [
      "My age is 20\n"
     ]
    }
   ],
   "source": [
    "# String Formatting\n",
    "# using format() \n",
    "intro = \"My age is {}\"\n",
    "age = 20\n",
    "print(intro.format(age))"
   ]
  },
  {
   "cell_type": "code",
   "execution_count": 13,
   "id": "9ce8daec-d3a0-4a32-a9e8-fe2e36984954",
   "metadata": {},
   "outputs": [
    {
     "name": "stdout",
     "output_type": "stream",
     "text": [
      "My age is 20\n"
     ]
    }
   ],
   "source": [
    "# using f string\n",
    "print(f\"My age is {age}\")"
   ]
  },
  {
   "cell_type": "code",
   "execution_count": 14,
   "id": "4ae06bb9-09bb-4685-95c5-6dd1f8218d18",
   "metadata": {},
   "outputs": [
    {
     "name": "stdout",
     "output_type": "stream",
     "text": [
      "1617\n"
     ]
    }
   ],
   "source": [
    "# We can do arithmetic operations inside f strings\n",
    "print(f\"{21 * 77}\")"
   ]
  },
  {
   "cell_type": "code",
   "execution_count": null,
   "id": "ecbd046a-b70b-460f-98dd-e77533e37840",
   "metadata": {},
   "outputs": [],
   "source": []
  }
 ],
 "metadata": {
  "kernelspec": {
   "display_name": "Python 3",
   "language": "python",
   "name": "python3"
  },
  "language_info": {
   "codemirror_mode": {
    "name": "ipython",
    "version": 3
   },
   "file_extension": ".py",
   "mimetype": "text/x-python",
   "name": "python",
   "nbconvert_exporter": "python",
   "pygments_lexer": "ipython3",
   "version": "3.8.5"
  }
 },
 "nbformat": 4,
 "nbformat_minor": 5
}
