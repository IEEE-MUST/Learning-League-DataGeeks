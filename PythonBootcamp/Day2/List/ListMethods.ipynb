{
 "cells": [
  {
   "cell_type": "markdown",
   "id": "a21430a2-d87e-4012-87a9-8749bdf24ed6",
   "metadata": {},
   "source": [
    "#### List methods"
   ]
  },
  {
   "cell_type": "code",
   "execution_count": 29,
   "id": "58752431-ffe9-4919-a50a-35c47a2e2f3d",
   "metadata": {},
   "outputs": [],
   "source": [
    "ls = [1,2] # create a new list"
   ]
  },
  {
   "cell_type": "code",
   "execution_count": 30,
   "id": "21bad6f9-642a-42bc-a2db-ba1760136293",
   "metadata": {},
   "outputs": [
    {
     "name": "stdout",
     "output_type": "stream",
     "text": [
      "List: []\n"
     ]
    }
   ],
   "source": [
    "# clear function: removes all the elements of the list\n",
    "ls.clear()\n",
    "print(\"List:\", ls)"
   ]
  },
  {
   "cell_type": "code",
   "execution_count": 31,
   "id": "68e1aab9-cdb6-405d-a7c7-fc38f2fd649b",
   "metadata": {},
   "outputs": [
    {
     "name": "stdout",
     "output_type": "stream",
     "text": [
      "List: [4, 3]\n"
     ]
    }
   ],
   "source": [
    "# append functions: add an object at the end of the list\n",
    "ls.append(4)\n",
    "ls.append(3)\n",
    "print(\"List:\", ls)"
   ]
  },
  {
   "cell_type": "code",
   "execution_count": 32,
   "id": "b37520ac-2be3-4335-9554-bd73d89c5db0",
   "metadata": {},
   "outputs": [
    {
     "name": "stdout",
     "output_type": "stream",
     "text": [
      "Index of 4: 0\n"
     ]
    }
   ],
   "source": [
    "# index function: returns the index of first appearance of the specified object\n",
    "ls.append(4)\n",
    "print(\"Index of 4:\",ls.index(4))"
   ]
  },
  {
   "cell_type": "code",
   "execution_count": 33,
   "id": "c2ace14f-8ab2-412c-b00a-84deea2cdace",
   "metadata": {},
   "outputs": [
    {
     "name": "stdout",
     "output_type": "stream",
     "text": [
      "Count of 4: 2\n"
     ]
    }
   ],
   "source": [
    "# count function: return the total number of the specified element\n",
    "print(\"Count of 4:\", ls.count(4))"
   ]
  },
  {
   "cell_type": "code",
   "execution_count": 34,
   "id": "b985b7d0-b2af-4b55-98f6-1acb2f8c8974",
   "metadata": {},
   "outputs": [
    {
     "name": "stdout",
     "output_type": "stream",
     "text": [
      "List: [4, 3, 4, 1, 2, 3]\n"
     ]
    }
   ],
   "source": [
    "# extend function: extend the list py appending elemeent from the specified iterable\n",
    "ls.extend([1,2,3])\n",
    "print(\"List:\", ls)"
   ]
  },
  {
   "cell_type": "code",
   "execution_count": 35,
   "id": "08ed6dbe-012f-43a1-a75c-44d9bfdce4a0",
   "metadata": {},
   "outputs": [
    {
     "name": "stdout",
     "output_type": "stream",
     "text": [
      "List: [4, 3, 4, 1, 2, 3, 5, 6, 7]\n"
     ]
    }
   ],
   "source": [
    "# String concatenation: + operator is used to concatenate two lists\n",
    "ls = ls + [5,6,7]\n",
    "print(\"List:\", ls)"
   ]
  },
  {
   "cell_type": "code",
   "execution_count": 36,
   "id": "b80cf73d-bd88-4bf5-b235-c648a8c85d90",
   "metadata": {},
   "outputs": [
    {
     "name": "stdout",
     "output_type": "stream",
     "text": [
      "List: [4, 3, 4, 'DNA', 1, 2, 3, 5, 6, 7]\n"
     ]
    }
   ],
   "source": [
    "# insert function: insert object at specified index\n",
    "# syntax: insert(index, object)\n",
    "ls.insert(3,\"DNA\")\n",
    "print(\"List:\", ls)"
   ]
  },
  {
   "cell_type": "code",
   "execution_count": 37,
   "id": "d435cd5d-9785-4e7d-a891-3d56dfd95206",
   "metadata": {},
   "outputs": [
    {
     "name": "stdout",
     "output_type": "stream",
     "text": [
      "Popped element: 7\n",
      "List: [4, 3, 4, 'DNA', 1, 2, 3, 5, 6]\n",
      "Popped element: 1\n",
      "List: [4, 3, 4, 'DNA', 2, 3, 5, 6]\n"
     ]
    }
   ],
   "source": [
    "# pop function : removes and returns element at specified index ( by default removes last element)\n",
    "print(\"Popped element:\",ls.pop())\n",
    "print(\"List:\", ls)\n",
    "print(\"Popped element:\",ls.pop(4))\n",
    "print(\"List:\", ls)"
   ]
  },
  {
   "cell_type": "code",
   "execution_count": 38,
   "id": "a86ef534-301b-4085-8fb5-63b04da0691a",
   "metadata": {},
   "outputs": [
    {
     "name": "stdout",
     "output_type": "stream",
     "text": [
      "List: [4, 3, 4, 2, 3, 5, 6]\n"
     ]
    }
   ],
   "source": [
    "# remove function: removes the first occurence of specified value\n",
    "ls.remove('DNA')\n",
    "print(\"List:\", ls)"
   ]
  },
  {
   "cell_type": "code",
   "execution_count": 39,
   "id": "1a960122-5ee9-47c3-8bcb-b0eb6bfee1b5",
   "metadata": {},
   "outputs": [
    {
     "name": "stdout",
     "output_type": "stream",
     "text": [
      "List: [6, 5, 3, 2, 4, 3, 4]\n"
     ]
    }
   ],
   "source": [
    "# reverse function: reverse the list\n",
    "ls.reverse()\n",
    "print(\"List:\", ls)"
   ]
  },
  {
   "cell_type": "code",
   "execution_count": 41,
   "id": "be92dcb9-41f5-429e-a7b7-ab91383a00c9",
   "metadata": {},
   "outputs": [
    {
     "name": "stdout",
     "output_type": "stream",
     "text": [
      "List: [2, 3, 3, 4, 4, 5, 6]\n",
      "List: [6, 5, 4, 4, 3, 3, 2]\n"
     ]
    }
   ],
   "source": [
    "# sort function: sort the list in ascending order by default\n",
    "ls.sort()\n",
    "print(\"List:\", ls)\n",
    "ls.sort(reverse=True) # to sort in descending order\n",
    "print(\"List:\", ls)"
   ]
  },
  {
   "cell_type": "code",
   "execution_count": 43,
   "id": "7ed1613b-fe4f-451d-ae6b-f9f7f1da56b8",
   "metadata": {},
   "outputs": [
    {
     "name": "stdout",
     "output_type": "stream",
     "text": [
      "List: [6, 5, 4, 4, 3, 3, 2]\n",
      "Copied list: [6, 5, 4, 4, 3, 3, 2]\n"
     ]
    }
   ],
   "source": [
    "# copy function: returns a copy of the list\n",
    "ls2 = ls.copy()\n",
    "print(\"List:\", ls)\n",
    "print(\"Copied list:\",ls2)\n"
   ]
  },
  {
   "cell_type": "code",
   "execution_count": 44,
   "id": "f87c9ce5-646b-4021-8638-963feb6a60ee",
   "metadata": {},
   "outputs": [
    {
     "name": "stdout",
     "output_type": "stream",
     "text": [
      "ls2 == ls :  True\n"
     ]
    }
   ],
   "source": [
    "print(\"ls2 == ls : \", ls==ls2) # compares all the elements"
   ]
  },
  {
   "cell_type": "code",
   "execution_count": 46,
   "id": "e2840b29-9978-4586-98a9-eff509f2e427",
   "metadata": {},
   "outputs": [
    {
     "name": "stdout",
     "output_type": "stream",
     "text": [
      "ls2 is ls: False\n"
     ]
    }
   ],
   "source": [
    "print(\"ls2 is ls:\", ls is ls2) # both are different objects"
   ]
  },
  {
   "cell_type": "code",
   "execution_count": null,
   "id": "c682e392-b603-48a4-af62-54b120abffae",
   "metadata": {},
   "outputs": [],
   "source": []
  }
 ],
 "metadata": {
  "kernelspec": {
   "display_name": "Python 3",
   "language": "python",
   "name": "python3"
  },
  "language_info": {
   "codemirror_mode": {
    "name": "ipython",
    "version": 3
   },
   "file_extension": ".py",
   "mimetype": "text/x-python",
   "name": "python",
   "nbconvert_exporter": "python",
   "pygments_lexer": "ipython3",
   "version": "3.8.5"
  }
 },
 "nbformat": 4,
 "nbformat_minor": 5
}
