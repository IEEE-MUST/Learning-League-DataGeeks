{
 "cells": [
  {
   "cell_type": "markdown",
   "id": "e0e92d97-9cbb-46dc-9434-59b7955655a2",
   "metadata": {},
   "source": [
    "#### List comprehension: A way to create lists by a single line of code"
   ]
  },
  {
   "cell_type": "code",
   "execution_count": 1,
   "id": "b47cd9d8-b3a5-4e38-b264-e1c942b046cb",
   "metadata": {},
   "outputs": [],
   "source": [
    "# We want to create a list = [1,2,3,4,5,6,7,8,9,10]"
   ]
  },
  {
   "cell_type": "code",
   "execution_count": 2,
   "id": "9f726343-e308-485b-9db6-e7a784a414c0",
   "metadata": {},
   "outputs": [
    {
     "name": "stdout",
     "output_type": "stream",
     "text": [
      "List: [1, 2, 3, 4, 5, 6, 7, 8, 9, 10]\n"
     ]
    }
   ],
   "source": [
    "# Using traditional way\n",
    "ls = []\n",
    "for i in range(1,11):\n",
    "    ls.append(i)\n",
    "print(\"List:\", ls)"
   ]
  },
  {
   "cell_type": "code",
   "execution_count": 3,
   "id": "a79e6952-5128-427a-9be5-0c3be3fc82d0",
   "metadata": {},
   "outputs": [
    {
     "name": "stdout",
     "output_type": "stream",
     "text": [
      "List: [1, 2, 3, 4, 5, 6, 7, 8, 9, 10]\n"
     ]
    }
   ],
   "source": [
    "# Using List Comprehension\n",
    "ls2 = [i for i in range(1,11)]\n",
    "print(\"List:\", ls2)"
   ]
  },
  {
   "cell_type": "code",
   "execution_count": 4,
   "id": "00f2d53f-69cb-4347-82d2-be309ed118ef",
   "metadata": {},
   "outputs": [
    {
     "name": "stdout",
     "output_type": "stream",
     "text": [
      "List of square: [1, 4, 9, 16, 25, 36, 49, 64, 81, 100]\n"
     ]
    }
   ],
   "source": [
    "# list of squares\n",
    "sq = [i*i for i in range(1,11)]\n",
    "print(\"List of square:\", sq)"
   ]
  },
  {
   "cell_type": "code",
   "execution_count": 6,
   "id": "6b181219-d351-4741-848c-44ac6821010c",
   "metadata": {},
   "outputs": [
    {
     "name": "stdout",
     "output_type": "stream",
     "text": [
      "List of square roots: [1.0, 1.4142135623730951, 1.7320508075688772, 2.0, 2.23606797749979, 2.449489742783178, 2.6457513110645907, 2.8284271247461903, 3.0, 3.1622776601683795]\n"
     ]
    }
   ],
   "source": [
    "# List of square roots\n",
    "from math import sqrt\n",
    "sqr = [sqrt(i) for i in range(1,11)]\n",
    "print(\"List of square roots:\", sqr)"
   ]
  },
  {
   "cell_type": "code",
   "execution_count": 7,
   "id": "4dc843a6-f849-4ff1-bc21-6e744740b7ba",
   "metadata": {},
   "outputs": [
    {
     "name": "stdout",
     "output_type": "stream",
     "text": [
      "Even numbers list: [2, 4, 6, 8, 10, 12, 14, 16, 18, 20]\n"
     ]
    }
   ],
   "source": [
    "# Creating list with a condition\n",
    "ev = [i for i in range(1,21) if i%2 == 0] # list of even numbers in range(1,21)\n",
    "print(\"Even numbers list:\", ev)"
   ]
  },
  {
   "cell_type": "code",
   "execution_count": 8,
   "id": "cc2e6183-61c6-4636-a182-61d37f2b9c07",
   "metadata": {},
   "outputs": [
    {
     "name": "stdout",
     "output_type": "stream",
     "text": [
      "Even Odd list: ['Even', 'Odd', 'Odd', 'Even', 'Odd', 'Odd', 'Even']\n"
     ]
    }
   ],
   "source": [
    "num = [12,43,89,44,23,67,98]\n",
    "ev_odd = [\"Even\" if i%2 == 0 else \"Odd\" for i in num] # using else \n",
    "print(\"Even Odd list:\", ev_odd)"
   ]
  },
  {
   "cell_type": "code",
   "execution_count": null,
   "id": "15945ead-b788-4939-9707-0ba3d441a4ee",
   "metadata": {},
   "outputs": [],
   "source": []
  }
 ],
 "metadata": {
  "kernelspec": {
   "display_name": "Python 3",
   "language": "python",
   "name": "python3"
  },
  "language_info": {
   "codemirror_mode": {
    "name": "ipython",
    "version": 3
   },
   "file_extension": ".py",
   "mimetype": "text/x-python",
   "name": "python",
   "nbconvert_exporter": "python",
   "pygments_lexer": "ipython3",
   "version": "3.8.5"
  }
 },
 "nbformat": 4,
 "nbformat_minor": 5
}
