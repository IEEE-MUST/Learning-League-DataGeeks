{
 "cells": [
  {
   "cell_type": "markdown",
   "id": "peripheral-syndicate",
   "metadata": {},
   "source": [
    "### LIST\n"
   ]
  },
  {
   "cell_type": "code",
   "execution_count": 1,
   "id": "rubber-timeline",
   "metadata": {},
   "outputs": [],
   "source": [
    "#Lists are used to store multiple items in a single variable.\n",
    "#Lists are one of 4 built-in data types in Python used to store collections of data, the other 3 are Tuple, Set, and Dictionary, all with different qualities and usage.\n",
    "#Lists are created using square brackets\n",
    "\n"
   ]
  },
  {
   "cell_type": "code",
   "execution_count": 3,
   "id": "sweet-andrew",
   "metadata": {},
   "outputs": [
    {
     "name": "stdout",
     "output_type": "stream",
     "text": [
      "['apple', 'banana', 'cherry']\n"
     ]
    }
   ],
   "source": [
    "#Create a List\n",
    "fruits = [\"apple\", \"banana\", \"cherry\"]\n",
    "print(fruits)"
   ]
  },
  {
   "cell_type": "code",
   "execution_count": 5,
   "id": "olympic-income",
   "metadata": {},
   "outputs": [],
   "source": [
    "#List Items- String, int and boolean data types\n",
    "list1 = [\"apple\", \"banana\", \"cherry\"]\n",
    "list2 = [1, 5, 7, 9, 3]\n",
    "list3 = [True, False, False]"
   ]
  },
  {
   "cell_type": "code",
   "execution_count": 7,
   "id": "parallel-professor",
   "metadata": {},
   "outputs": [
    {
     "name": "stdout",
     "output_type": "stream",
     "text": [
      "<class 'list'>\n"
     ]
    }
   ],
   "source": [
    "#type()\n",
    "#What is the data type of a list?\n",
    "\n",
    "fruits = [\"apple\", \"banana\", \"cherry\"]\n",
    "print(type(fruits))"
   ]
  },
  {
   "cell_type": "code",
   "execution_count": 9,
   "id": "senior-february",
   "metadata": {},
   "outputs": [
    {
     "name": "stdout",
     "output_type": "stream",
     "text": [
      "banana\n",
      "cherry\n",
      "['cherry', 'orange', 'kiwi']\n"
     ]
    }
   ],
   "source": [
    "#Accessing List items\n",
    "#1. Through indexing\n",
    "fruits = [\"apple\", \"banana\", \"cherry\"]\n",
    "print(fruits[1])\n",
    "\n",
    "#2. Negetive indexing\n",
    "# -1 refers to the last item, -2 refers to the second last item etc.\n",
    "fruits = [\"apple\", \"banana\", \"cherry\"]\n",
    "print(fruits[-1])\n",
    "\n",
    "#3. Range of Indexes\n",
    "fruits = [\"apple\", \"banana\", \"cherry\", \"orange\", \"kiwi\", \"melon\", \"mango\"]\n",
    "print(fruits[2:5])"
   ]
  },
  {
   "cell_type": "code",
   "execution_count": 10,
   "id": "daily-share",
   "metadata": {},
   "outputs": [],
   "source": [
    "#List Slicing\n",
    "a= [\"ram\", 10, \"shyam\", 12.5]"
   ]
  },
  {
   "cell_type": "code",
   "execution_count": 11,
   "id": "atomic-battery",
   "metadata": {},
   "outputs": [
    {
     "data": {
      "text/plain": [
       "['ram', 10, 'shyam', 12.5]"
      ]
     },
     "execution_count": 11,
     "metadata": {},
     "output_type": "execute_result"
    }
   ],
   "source": [
    "a[0:]"
   ]
  },
  {
   "cell_type": "code",
   "execution_count": 12,
   "id": "insured-mason",
   "metadata": {},
   "outputs": [
    {
     "data": {
      "text/plain": [
       "[10, 'shyam']"
      ]
     },
     "execution_count": 12,
     "metadata": {},
     "output_type": "execute_result"
    }
   ],
   "source": [
    "a[1:3]"
   ]
  },
  {
   "cell_type": "code",
   "execution_count": 13,
   "id": "sapphire-deposit",
   "metadata": {},
   "outputs": [
    {
     "data": {
      "text/plain": [
       "['ram', 10, 'shyam', 12.5]"
      ]
     },
     "execution_count": 13,
     "metadata": {},
     "output_type": "execute_result"
    }
   ],
   "source": [
    "a[:]"
   ]
  },
  {
   "cell_type": "code",
   "execution_count": 14,
   "id": "announced-spirituality",
   "metadata": {},
   "outputs": [
    {
     "data": {
      "text/plain": [
       "['ram', 10, 'shyam', 12.5]"
      ]
     },
     "execution_count": 14,
     "metadata": {},
     "output_type": "execute_result"
    }
   ],
   "source": [
    "a[:4]"
   ]
  },
  {
   "cell_type": "code",
   "execution_count": 16,
   "id": "encouraging-minutes",
   "metadata": {},
   "outputs": [
    {
     "name": "stdout",
     "output_type": "stream",
     "text": [
      "['apple', 'blackcurrant', 'cherry']\n"
     ]
    }
   ],
   "source": [
    "#Changing List Items\n",
    "fruits = [\"apple\", \"banana\", \"cherry\"]\n",
    "fruits[1] = \"blackcurrant\"\n",
    "print(fruits)"
   ]
  },
  {
   "cell_type": "code",
   "execution_count": 18,
   "id": "japanese-malpractice",
   "metadata": {},
   "outputs": [
    {
     "name": "stdout",
     "output_type": "stream",
     "text": [
      "['apple', 'banana', 'cherry', 'orange']\n",
      "['apple', 'orange', 'banana', 'cherry']\n"
     ]
    }
   ],
   "source": [
    "#Adding List items\n",
    "#1. append()\n",
    "#Using the append() method to append an item:\n",
    "\n",
    "fruits = [\"apple\", \"banana\", \"cherry\"]\n",
    "fruits.append(\"orange\")\n",
    "print(fruits)\n",
    "\n",
    "\n",
    "#2. Insert Items\n",
    "#To insert a list item at a specified index, use the insert() method.\n",
    "#Insert an item as the second position:\n",
    "\n",
    "fruits = [\"apple\", \"banana\", \"cherry\"]\n",
    "fruits.insert(1, \"orange\")\n",
    "print(fruits)"
   ]
  },
  {
   "cell_type": "code",
   "execution_count": null,
   "id": "italian-switzerland",
   "metadata": {},
   "outputs": [],
   "source": [
    "#Remove List It"
   ]
  }
 ],
 "metadata": {
  "kernelspec": {
   "display_name": "Python 3",
   "language": "python",
   "name": "python3"
  },
  "language_info": {
   "codemirror_mode": {
    "name": "ipython",
    "version": 3
   },
   "file_extension": ".py",
   "mimetype": "text/x-python",
   "name": "python",
   "nbconvert_exporter": "python",
   "pygments_lexer": "ipython3",
   "version": "3.8.3"
  }
 },
 "nbformat": 4,
 "nbformat_minor": 5
}
