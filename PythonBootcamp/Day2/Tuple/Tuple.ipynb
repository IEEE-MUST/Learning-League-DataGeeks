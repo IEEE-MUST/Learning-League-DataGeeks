{
 "cells": [
  {
   "cell_type": "code",
   "execution_count": 7,
   "id": "educated-september",
   "metadata": {},
   "outputs": [],
   "source": [
    "#Tuples are used to store multiple items in a single variable.\n",
    "#Tuple is one of 4 built-in data types in Python used to store collections of data, the other 3 are List, Set, and Dictionary, all with different qualities and usage.\n",
    "#A tuple is a collection which is ordered and unchangeable.\n",
    "#Tuples are written with round brackets.\n",
    "fruitsname=(\"apple\", \"banana\", \"cherry\")"
   ]
  },
  {
   "cell_type": "code",
   "execution_count": 8,
   "id": "eight-wichita",
   "metadata": {},
   "outputs": [
    {
     "name": "stdout",
     "output_type": "stream",
     "text": [
      "('banana', 'cherry')\n"
     ]
    }
   ],
   "source": [
    "#access of tuple\n",
    "fruitsname=(\"apple\", \"banana\", \"cherry\")\n",
    "print(fruitsname[1:])"
   ]
  },
  {
   "cell_type": "code",
   "execution_count": 9,
   "id": "novel-sword",
   "metadata": {},
   "outputs": [
    {
     "name": "stdout",
     "output_type": "stream",
     "text": [
      "('apple', 'kiwi', 'cherry')\n"
     ]
    }
   ],
   "source": [
    "#updation\n",
    "fruitsname=(\"apple\", \"banana\", \"cherry\")\n",
    "y=list(fruitsname)\n",
    "y[1]='kiwi'\n",
    "fruitsname=tuple(y)\n",
    "print(fruitsname)"
   ]
  },
  {
   "cell_type": "code",
   "execution_count": 10,
   "id": "descending-communications",
   "metadata": {},
   "outputs": [
    {
     "name": "stdout",
     "output_type": "stream",
     "text": [
      "('apple', 'banana', 'cherry', 'orange')\n"
     ]
    }
   ],
   "source": [
    "#addition\n",
    "#1. Convert into a list: Just like the workaround for changing a tuple, you can convert it into a list, add your item(s), and convert it back into a tuple.\n",
    "#2. Add tuple to a tuple. You are allowed to add tuples to tuples, so if you want to add one item, (or many), create a new tuple with the item(s), and add it to the existing tuple:\n",
    "fruitsname=(\"apple\", \"banana\", \"cherry\")\n",
    "y=list(fruitsname)\n",
    "y.append(\"orange\")\n",
    "fruitsname=tuple(y)\n",
    "print(fruitsname)\n"
   ]
  },
  {
   "cell_type": "code",
   "execution_count": 11,
   "id": "downtown-nebraska",
   "metadata": {},
   "outputs": [
    {
     "name": "stdout",
     "output_type": "stream",
     "text": [
      "('apple', 'banana', 'cherry', 'orange')\n"
     ]
    }
   ],
   "source": [
    "fruitsname=(\"apple\", \"banana\", \"cherry\")\n",
    "\n",
    "y=(\"orange\",)\n",
    "fruitsname += y\n",
    "print(fruitsname)"
   ]
  },
  {
   "cell_type": "code",
   "execution_count": null,
   "id": "productive-celtic",
   "metadata": {},
   "outputs": [],
   "source": []
  }
 ],
 "metadata": {
  "kernelspec": {
   "display_name": "Python 3",
   "language": "python",
   "name": "python3"
  },
  "language_info": {
   "codemirror_mode": {
    "name": "ipython",
    "version": 3
   },
   "file_extension": ".py",
   "mimetype": "text/x-python",
   "name": "python",
   "nbconvert_exporter": "python",
   "pygments_lexer": "ipython3",
   "version": "3.8.3"
  }
 },
 "nbformat": 4,
 "nbformat_minor": 5
}
