{
 "cells": [
  {
   "cell_type": "markdown",
   "id": "06882a3d-90a6-4a30-a2f1-6dc441e98b05",
   "metadata": {},
   "source": [
    "### Dictionary \n",
    "#### A dictionary consists of a collection of key-value pairs. Each key-value pair maps the key to its associated value."
   ]
  },
  {
   "cell_type": "code",
   "execution_count": 1,
   "id": "da4b03c4-969e-409f-b8c1-a93a8591dba1",
   "metadata": {},
   "outputs": [],
   "source": [
    "# create a dictionay consisting prices of different fruits\n",
    "fruits = { 'mango': 10, 'apple': 5, 'banana': 5} # name of the fruits are the keys"
   ]
  },
  {
   "cell_type": "code",
   "execution_count": 2,
   "id": "b3e293e5-0cc2-4b94-a850-8f11d52cf273",
   "metadata": {},
   "outputs": [
    {
     "name": "stdout",
     "output_type": "stream",
     "text": [
      "Price of apple: 5\n"
     ]
    }
   ],
   "source": [
    "print(\"Price of apple:\", fruits['apple'])"
   ]
  },
  {
   "cell_type": "code",
   "execution_count": 3,
   "id": "5f8f3c31-7dc0-4a76-9311-fad686e7ed39",
   "metadata": {},
   "outputs": [
    {
     "ename": "KeyError",
     "evalue": "'strawberry'",
     "output_type": "error",
     "traceback": [
      "\u001b[0;31m---------------------------------------------------------------------------\u001b[0m",
      "\u001b[0;31mKeyError\u001b[0m                                  Traceback (most recent call last)",
      "\u001b[0;32m<ipython-input-3-9f5cefbd03f1>\u001b[0m in \u001b[0;36m<module>\u001b[0;34m\u001b[0m\n\u001b[0;32m----> 1\u001b[0;31m \u001b[0mprint\u001b[0m\u001b[0;34m(\u001b[0m\u001b[0;34m\"Prince of strawberry:\"\u001b[0m\u001b[0;34m,\u001b[0m \u001b[0mfruits\u001b[0m\u001b[0;34m[\u001b[0m\u001b[0;34m'strawberry'\u001b[0m\u001b[0;34m]\u001b[0m\u001b[0;34m)\u001b[0m \u001b[0;31m# there is no strawberry in our dictionay\u001b[0m\u001b[0;34m\u001b[0m\u001b[0;34m\u001b[0m\u001b[0m\n\u001b[0m",
      "\u001b[0;31mKeyError\u001b[0m: 'strawberry'"
     ]
    }
   ],
   "source": [
    "print(\"Prince of strawberry:\", fruits['strawberry']) # there is no strawberry in our dictionay"
   ]
  },
  {
   "cell_type": "code",
   "execution_count": 5,
   "id": "0729d412-ca4d-4f3a-8677-7d004cc0479a",
   "metadata": {},
   "outputs": [
    {
     "ename": "KeyError",
     "evalue": "1",
     "output_type": "error",
     "traceback": [
      "\u001b[0;31m---------------------------------------------------------------------------\u001b[0m",
      "\u001b[0;31mKeyError\u001b[0m                                  Traceback (most recent call last)",
      "\u001b[0;32m<ipython-input-5-68da22d26085>\u001b[0m in \u001b[0;36m<module>\u001b[0;34m\u001b[0m\n\u001b[0;32m----> 1\u001b[0;31m \u001b[0mprint\u001b[0m\u001b[0;34m(\u001b[0m\u001b[0;34m\"Price at index 1:\"\u001b[0m\u001b[0;34m,\u001b[0m \u001b[0mfruits\u001b[0m\u001b[0;34m[\u001b[0m\u001b[0;36m1\u001b[0m\u001b[0;34m]\u001b[0m\u001b[0;34m)\u001b[0m \u001b[0;31m# Dictionaries are not indexed\u001b[0m\u001b[0;34m\u001b[0m\u001b[0;34m\u001b[0m\u001b[0m\n\u001b[0m",
      "\u001b[0;31mKeyError\u001b[0m: 1"
     ]
    }
   ],
   "source": [
    "print(\"Price at index 1:\", fruits[1]) # Dictionaries are not indexed"
   ]
  },
  {
   "cell_type": "code",
   "execution_count": 6,
   "id": "05383bf0-093f-4209-9895-c7d0e6f42373",
   "metadata": {},
   "outputs": [
    {
     "name": "stdout",
     "output_type": "stream",
     "text": [
      "Prince of strawberry: 15\n"
     ]
    }
   ],
   "source": [
    "# Adding elements in dictionary\n",
    "fruits['strawberry'] = 15\n",
    "print(\"Prince of strawberry:\", fruits['strawberry'])"
   ]
  },
  {
   "cell_type": "code",
   "execution_count": 7,
   "id": "bcd02f0e-cdfd-4c56-a9a9-e00a103529b1",
   "metadata": {},
   "outputs": [],
   "source": [
    "# creating an empty dictionary\n",
    "dic = {}"
   ]
  },
  {
   "cell_type": "code",
   "execution_count": 8,
   "id": "dd737ac3-2ad9-42c9-b2b7-b626af406107",
   "metadata": {},
   "outputs": [
    {
     "name": "stdout",
     "output_type": "stream",
     "text": [
      "{}\n"
     ]
    }
   ],
   "source": [
    "print(dic)"
   ]
  },
  {
   "cell_type": "code",
   "execution_count": 14,
   "id": "dc9d53df-5841-42ef-8a59-8d9d7aa1c908",
   "metadata": {},
   "outputs": [
    {
     "name": "stdout",
     "output_type": "stream",
     "text": [
      "{0: 1, 2: [1, 2, 3], 3: (1, 2, 3), (1, 2): 4}\n"
     ]
    }
   ],
   "source": [
    "dic[0] = 1\n",
    "dic[2] = [1,2,3] # can use list as value\n",
    "dic[3] = (1,2,3) # can use tuple as value\n",
    "dic[(1,2)] = 4 # can use tuple as key\\\n",
    "print(dic)"
   ]
  },
  {
   "cell_type": "code",
   "execution_count": 15,
   "id": "41090a4e-7987-48e8-9726-9b3f75808cac",
   "metadata": {},
   "outputs": [
    {
     "ename": "TypeError",
     "evalue": "unhashable type: 'list'",
     "output_type": "error",
     "traceback": [
      "\u001b[0;31m---------------------------------------------------------------------------\u001b[0m",
      "\u001b[0;31mTypeError\u001b[0m                                 Traceback (most recent call last)",
      "\u001b[0;32m<ipython-input-15-9edfdd9f6aea>\u001b[0m in \u001b[0;36m<module>\u001b[0;34m\u001b[0m\n\u001b[0;32m----> 1\u001b[0;31m \u001b[0mdic\u001b[0m\u001b[0;34m[\u001b[0m\u001b[0;34m[\u001b[0m\u001b[0;36m1\u001b[0m\u001b[0;34m,\u001b[0m\u001b[0;36m2\u001b[0m\u001b[0;34m]\u001b[0m\u001b[0;34m]\u001b[0m \u001b[0;34m=\u001b[0m \u001b[0;36m5\u001b[0m \u001b[0;31m# cannot use list as a key because list is not hashable\u001b[0m\u001b[0;34m\u001b[0m\u001b[0;34m\u001b[0m\u001b[0m\n\u001b[0m",
      "\u001b[0;31mTypeError\u001b[0m: unhashable type: 'list'"
     ]
    }
   ],
   "source": [
    "dic[[1,2]] = 5 # cannot use list as a key because list is not hashable"
   ]
  },
  {
   "cell_type": "code",
   "execution_count": 19,
   "id": "1435ccf6-b232-4b1d-8447-fec79a45ff20",
   "metadata": {},
   "outputs": [
    {
     "name": "stdout",
     "output_type": "stream",
     "text": [
      "6143088815533388866\n",
      "7\n",
      "529344067295497451\n"
     ]
    }
   ],
   "source": [
    "# How to find whether something is hashable or not? -> Use hash() function\n",
    "print(hash('magic shop')) #string is hashable\n",
    "print(hash(7) )# int is hashable\n",
    "print(hash((1,2,3))) # tuple is hashable"
   ]
  },
  {
   "cell_type": "code",
   "execution_count": 22,
   "id": "040ff697-030a-4dde-85fa-6184a6bcfd8d",
   "metadata": {},
   "outputs": [
    {
     "ename": "TypeError",
     "evalue": "unhashable type: 'list'",
     "output_type": "error",
     "traceback": [
      "\u001b[0;31m---------------------------------------------------------------------------\u001b[0m",
      "\u001b[0;31mTypeError\u001b[0m                                 Traceback (most recent call last)",
      "\u001b[0;32m<ipython-input-22-df483ea25224>\u001b[0m in \u001b[0;36m<module>\u001b[0;34m\u001b[0m\n\u001b[0;32m----> 1\u001b[0;31m \u001b[0mprint\u001b[0m\u001b[0;34m(\u001b[0m\u001b[0mhash\u001b[0m\u001b[0;34m(\u001b[0m\u001b[0;34m[\u001b[0m\u001b[0;36m1\u001b[0m\u001b[0;34m,\u001b[0m\u001b[0;36m2\u001b[0m\u001b[0;34m,\u001b[0m\u001b[0;36m3\u001b[0m\u001b[0;34m]\u001b[0m\u001b[0;34m)\u001b[0m\u001b[0;34m)\u001b[0m \u001b[0;31m#list is not hashable\u001b[0m\u001b[0;34m\u001b[0m\u001b[0;34m\u001b[0m\u001b[0m\n\u001b[0m",
      "\u001b[0;31mTypeError\u001b[0m: unhashable type: 'list'"
     ]
    }
   ],
   "source": [
    "print(hash([1,2,3])) #list is not hashable"
   ]
  },
  {
   "cell_type": "code",
   "execution_count": 23,
   "id": "4074d739-f0f4-40ba-b49d-6f1e6ba855b0",
   "metadata": {},
   "outputs": [
    {
     "name": "stdout",
     "output_type": "stream",
     "text": [
      "True\n"
     ]
    }
   ],
   "source": [
    "# using in operator\n",
    "print('mango' in fruits) # to find whether a key exist in dictionaty or not "
   ]
  },
  {
   "cell_type": "code",
   "execution_count": 24,
   "id": "579b60bc-5eaa-4db6-8a70-fca0db04ef64",
   "metadata": {},
   "outputs": [
    {
     "name": "stdout",
     "output_type": "stream",
     "text": [
      "4\n"
     ]
    }
   ],
   "source": [
    "# length of dictionary\n",
    "print(len(fruits))"
   ]
  },
  {
   "cell_type": "code",
   "execution_count": 25,
   "id": "45dfebf4-0297-40d0-affe-c48ac4d1ba85",
   "metadata": {},
   "outputs": [
    {
     "name": "stdout",
     "output_type": "stream",
     "text": [
      "Keys: dict_keys(['mango', 'apple', 'banana', 'strawberry'])\n",
      "Values: dict_values([10, 5, 5, 15])\n"
     ]
    }
   ],
   "source": [
    "# print all the keys in dicitonary\n",
    "print(\"Keys:\", fruits.keys())\n",
    "# print all the values in dicitonary\n",
    "print(\"Values:\", fruits.values())"
   ]
  },
  {
   "cell_type": "code",
   "execution_count": 26,
   "id": "5bcfb70f-0f99-4326-8eda-ca27681c9c2c",
   "metadata": {},
   "outputs": [
    {
     "name": "stdout",
     "output_type": "stream",
     "text": [
      "Price of apple: 5\n",
      "Price of orange: None\n"
     ]
    }
   ],
   "source": [
    "# get(): return the value of the key if it exists. If the key does not exists, returns None\n",
    "print(\"Price of apple:\", fruits.get('apple'))\n",
    "print(\"Price of orange:\", fruits.get('orange'))"
   ]
  },
  {
   "cell_type": "code",
   "execution_count": 27,
   "id": "e13516ce-fa1d-4b10-8cd6-da8762ef9ddf",
   "metadata": {},
   "outputs": [
    {
     "name": "stdout",
     "output_type": "stream",
     "text": [
      "Items: dict_items([('mango', 10), ('apple', 5), ('banana', 5), ('strawberry', 15)])\n"
     ]
    }
   ],
   "source": [
    "# items(): returns list of tuples of all items in dictionary\n",
    "print(\"Items:\", fruits.items())"
   ]
  },
  {
   "cell_type": "code",
   "execution_count": 28,
   "id": "2cd52b3d-8dd6-4b0d-b452-27cf20fa8218",
   "metadata": {},
   "outputs": [
    {
     "name": "stdout",
     "output_type": "stream",
     "text": [
      "5\n",
      "{'mango': 10, 'banana': 5, 'strawberry': 15}\n"
     ]
    }
   ],
   "source": [
    "# pop(): removes the item with specified key and returns the value\n",
    "print(fruits.pop('apple'))\n",
    "print(fruits)"
   ]
  },
  {
   "cell_type": "code",
   "execution_count": null,
   "id": "7bad1263-d9aa-48f1-b09b-3b4e6468fd60",
   "metadata": {},
   "outputs": [],
   "source": []
  }
 ],
 "metadata": {
  "kernelspec": {
   "display_name": "Python 3",
   "language": "python",
   "name": "python3"
  },
  "language_info": {
   "codemirror_mode": {
    "name": "ipython",
    "version": 3
   },
   "file_extension": ".py",
   "mimetype": "text/x-python",
   "name": "python",
   "nbconvert_exporter": "python",
   "pygments_lexer": "ipython3",
   "version": "3.8.5"
  }
 },
 "nbformat": 4,
 "nbformat_minor": 5
}
