{
 "cells": [
  {
   "cell_type": "markdown",
   "id": "critical-array",
   "metadata": {},
   "source": [
    "### Sets"
   ]
  },
  {
   "cell_type": "code",
   "execution_count": 8,
   "id": "minute-quarterly",
   "metadata": {},
   "outputs": [],
   "source": [
    "#Sets are used to store multiple items in a single variable.\n",
    "#A set is a collection which is both unordered and unindexed.\n",
    "#Sets are written with curly brackets.\n",
    "\n",
    "myset={\"red\", \"blue\", \"green\"}\n"
   ]
  },
  {
   "cell_type": "code",
   "execution_count": 6,
   "id": "legendary-exhibit",
   "metadata": {},
   "outputs": [
    {
     "name": "stdout",
     "output_type": "stream",
     "text": [
      "green\n",
      "red\n",
      "blue\n"
     ]
    }
   ],
   "source": [
    "#access a set\n",
    "myset={\"red\", \"blue\", \"green\"}\n",
    "for x in myset:\n",
    "    print (x)"
   ]
  },
  {
   "cell_type": "code",
   "execution_count": 7,
   "id": "intense-burton",
   "metadata": {},
   "outputs": [
    {
     "name": "stdout",
     "output_type": "stream",
     "text": [
      "{'pink', 'green', 'red', 'blue'}\n"
     ]
    }
   ],
   "source": [
    "#addition in sets\n",
    "myset={\"red\", \"blue\", \"green\"}\n",
    "myset.add(\"pink\")\n",
    "print(myset)"
   ]
  }
 ],
 "metadata": {
  "kernelspec": {
   "display_name": "Python 3",
   "language": "python",
   "name": "python3"
  },
  "language_info": {
   "codemirror_mode": {
    "name": "ipython",
    "version": 3
   },
   "file_extension": ".py",
   "mimetype": "text/x-python",
   "name": "python",
   "nbconvert_exporter": "python",
   "pygments_lexer": "ipython3",
   "version": "3.8.3"
  }
 },
 "nbformat": 4,
 "nbformat_minor": 5
}
