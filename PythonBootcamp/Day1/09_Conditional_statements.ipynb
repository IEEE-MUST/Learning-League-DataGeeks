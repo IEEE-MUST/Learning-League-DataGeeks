{
 "cells": [
  {
   "cell_type": "markdown",
   "id": "e113fd37-558f-43ef-93db-e5c00606b764",
   "metadata": {},
   "source": [
    "### if...else...elif statements"
   ]
  },
  {
   "cell_type": "code",
   "execution_count": 2,
   "id": "49f08478-62c6-4ad0-96c5-ab14c69bdc2b",
   "metadata": {},
   "outputs": [
    {
     "name": "stdin",
     "output_type": "stream",
     "text": [
      "Enter a number:  40\n"
     ]
    },
    {
     "name": "stdout",
     "output_type": "stream",
     "text": [
      "Yes it is an even number\n"
     ]
    }
   ],
   "source": [
    "# Syntax for if statement: if condition:\n",
    "num = int(input(\"Enter a number: \"))\n",
    "if num%2==0: #to check whether a number is even\n",
    "    print(\"Yes it is an even number\")"
   ]
  },
  {
   "cell_type": "code",
   "execution_count": 3,
   "id": "0bd77a07-b1c0-41d6-9075-cd54e527741c",
   "metadata": {},
   "outputs": [
    {
     "name": "stdin",
     "output_type": "stream",
     "text": [
      "Enter your age:  16\n"
     ]
    },
    {
     "name": "stdout",
     "output_type": "stream",
     "text": [
      "You are not eligible to vote\n"
     ]
    }
   ],
   "source": [
    "# Using else\n",
    "age = int(input(\"Enter your age: \"))\n",
    "if age>=18: # To check if someone is eligible to vote\n",
    "    print(\"You are eligible to vote\")\n",
    "else:\n",
    "    print(\"You are not eligible to vote\")"
   ]
  },
  {
   "cell_type": "code",
   "execution_count": 4,
   "id": "43f643d7-6d2a-42aa-af74-b03daf96c072",
   "metadata": {},
   "outputs": [
    {
     "name": "stdout",
     "output_type": "stream",
     "text": [
      "The largest number is: 6\n"
     ]
    }
   ],
   "source": [
    "# Using if elif and else together\n",
    "# I'll write a program to find greatest of three numbers to demonstrate the use fo elif\n",
    "a = 5\n",
    "b = 6\n",
    "c = 2\n",
    "\n",
    "if a>=b and a>=c:\n",
    "    largest = a\n",
    "elif b>=a and b>=c:\n",
    "    largest = b\n",
    "else:\n",
    "    largest = c\n",
    "\n",
    "print(\"The largest number is:\", largest)"
   ]
  },
  {
   "cell_type": "code",
   "execution_count": null,
   "id": "a19a93bc-c024-4ea9-8b69-524436e529d8",
   "metadata": {},
   "outputs": [],
   "source": []
  }
 ],
 "metadata": {
  "kernelspec": {
   "display_name": "Python 3",
   "language": "python",
   "name": "python3"
  },
  "language_info": {
   "codemirror_mode": {
    "name": "ipython",
    "version": 3
   },
   "file_extension": ".py",
   "mimetype": "text/x-python",
   "name": "python",
   "nbconvert_exporter": "python",
   "pygments_lexer": "ipython3",
   "version": "3.8.5"
  }
 },
 "nbformat": 4,
 "nbformat_minor": 5
}
