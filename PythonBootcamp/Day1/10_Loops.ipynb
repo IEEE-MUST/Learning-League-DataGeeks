{
 "cells": [
  {
   "cell_type": "markdown",
   "id": "f89b5362-4bfd-43cf-9dfc-785807cde969",
   "metadata": {},
   "source": [
    "### Python has two types of loops: 1) while 2) for"
   ]
  },
  {
   "cell_type": "code",
   "execution_count": 1,
   "id": "f12ae3d5-0292-4a15-8184-f6ce8e1b170c",
   "metadata": {},
   "outputs": [
    {
     "name": "stdout",
     "output_type": "stream",
     "text": [
      "Hello\n",
      "Hello\n",
      "Hello\n",
      "Hello\n",
      "Hello\n",
      "Hello\n",
      "Hello\n",
      "Hello\n",
      "Hello\n",
      "Hello\n"
     ]
    }
   ],
   "source": [
    "# while loop syntax->\n",
    "# while condition:\n",
    "#    statements\n",
    "\n",
    "i = 10\n",
    "\n",
    "while i>0: # print Hello 10 times\n",
    "    print(\"Hello\")\n",
    "    i-=1 "
   ]
  },
  {
   "cell_type": "markdown",
   "id": "ab5e4a05-1a7f-4924-98bf-23508a55b9e0",
   "metadata": {},
   "source": [
    "### range() function: The range() function returns a sequence of numbers, starting from 0 by default, and increments by 1 (by default), and stops before a specified number.\n",
    "\n",
    "#### Syntax: range(start, stop, step)\n",
    "##### start: optional - specify start position - default is 0\n",
    "##### stop: required - specify stop position\n",
    "##### step: optional - specify increment value - default is 1"
   ]
  },
  {
   "cell_type": "code",
   "execution_count": 2,
   "id": "2cc09e72-bd28-498b-912e-d570647a66e6",
   "metadata": {},
   "outputs": [],
   "source": [
    "# range(5) : generate numbers from 0 to 4\n",
    "# range(1,5): generate numbers form 1 to 4\n",
    "# range(1,10): generate numbers from 1 to 9 with increment of 2 i.e, 1,3,5,7,9"
   ]
  },
  {
   "cell_type": "code",
   "execution_count": 3,
   "id": "8fe656e9-aea8-4646-81bb-ef6099c42cdd",
   "metadata": {},
   "outputs": [
    {
     "name": "stdout",
     "output_type": "stream",
     "text": [
      "0\n",
      "1\n",
      "2\n",
      "3\n",
      "4\n"
     ]
    }
   ],
   "source": [
    "# using for loop with range\n",
    "for i in range(5):\n",
    "    print(i)"
   ]
  },
  {
   "cell_type": "code",
   "execution_count": 4,
   "id": "3bf4c8a0-d82d-4f70-8e67-8f2ce7d517df",
   "metadata": {},
   "outputs": [
    {
     "name": "stdout",
     "output_type": "stream",
     "text": [
      "1\n",
      "2\n",
      "3\n",
      "4\n"
     ]
    }
   ],
   "source": [
    "for i in range(1,5):\n",
    "    print(i)"
   ]
  },
  {
   "cell_type": "code",
   "execution_count": 5,
   "id": "a3a72a67-e8a8-4a23-9a27-bf6d73582c49",
   "metadata": {},
   "outputs": [
    {
     "name": "stdout",
     "output_type": "stream",
     "text": [
      "1\n",
      "3\n",
      "5\n",
      "7\n",
      "9\n"
     ]
    }
   ],
   "source": [
    "for i in range(1,10,2):\n",
    "    print(i)"
   ]
  },
  {
   "cell_type": "code",
   "execution_count": 7,
   "id": "106f7e17-eb4f-4cd0-95a7-f3af96ac931e",
   "metadata": {},
   "outputs": [
    {
     "name": "stdout",
     "output_type": "stream",
     "text": [
      "10\n",
      "9\n",
      "8\n",
      "7\n",
      "6\n"
     ]
    }
   ],
   "source": [
    "# using negative number as step value\n",
    "for i in range(10,5,-1):\n",
    "    print(i)"
   ]
  },
  {
   "cell_type": "markdown",
   "id": "0a588aa5-d166-472c-9760-d2bef5a9c6c8",
   "metadata": {},
   "source": [
    "### Break and Continue \n",
    "#### Break: terminates the loop\n",
    "#### Continue: forces the loop to continue or execute the next iteration.\n"
   ]
  },
  {
   "cell_type": "code",
   "execution_count": 8,
   "id": "f5036ee6-42c8-417e-b9be-3662cfab13bc",
   "metadata": {},
   "outputs": [
    {
     "name": "stdout",
     "output_type": "stream",
     "text": [
      "1\n",
      "2\n",
      "3\n",
      "4\n",
      "5\n"
     ]
    }
   ],
   "source": [
    "# using break\n",
    "for i in range(1,11):\n",
    "    print(i)\n",
    "    if i == 5: # loop will end once i becomes 5\n",
    "        break"
   ]
  },
  {
   "cell_type": "code",
   "execution_count": 9,
   "id": "58c67e08-8845-4a78-bff4-f0d486a196a0",
   "metadata": {},
   "outputs": [
    {
     "name": "stdout",
     "output_type": "stream",
     "text": [
      "1\n",
      "2\n",
      "3\n",
      "4\n",
      "6\n",
      "7\n",
      "8\n",
      "9\n",
      "10\n"
     ]
    }
   ],
   "source": [
    "# using continue statement\n",
    "for i in range(1,11):\n",
    "    if i == 5:\n",
    "        i+=2\n",
    "        continue # once i becomes 5, loop will start again without executing remaining statements\n",
    "    print(i)\n",
    "    i+=1"
   ]
  },
  {
   "cell_type": "markdown",
   "id": "e54ff0dc-98c3-4652-84bc-2df19cef525e",
   "metadata": {},
   "source": [
    "#### Pass: does nothing. The pass statement in Python is used when a statement is required syntactically but you do not want any command or code to execute. It is like null operation, as nothing will happen is it is executed. Pass statement can also be used for writing empty loops. Pass is also used for empty control statement, function and classes.\n"
   ]
  },
  {
   "cell_type": "code",
   "execution_count": 10,
   "id": "3b0afba4-d3ab-47d2-805a-92176ebe15ea",
   "metadata": {},
   "outputs": [
    {
     "ename": "SyntaxError",
     "evalue": "unexpected EOF while parsing (<ipython-input-10-2a91702b47fc>, line 1)",
     "output_type": "error",
     "traceback": [
      "\u001b[0;36m  File \u001b[0;32m\"<ipython-input-10-2a91702b47fc>\"\u001b[0;36m, line \u001b[0;32m1\u001b[0m\n\u001b[0;31m    for i in range(5): # will get error\u001b[0m\n\u001b[0m                                       ^\u001b[0m\n\u001b[0;31mSyntaxError\u001b[0m\u001b[0;31m:\u001b[0m unexpected EOF while parsing\n"
     ]
    }
   ],
   "source": [
    "for i in range(5): # will get error"
   ]
  },
  {
   "cell_type": "code",
   "execution_count": 11,
   "id": "4034c08f-c25b-4b7a-aad2-41bb81cd673e",
   "metadata": {},
   "outputs": [],
   "source": [
    "for i in range(5):\n",
    "    pass # no error"
   ]
  },
  {
   "cell_type": "code",
   "execution_count": null,
   "id": "54235af3-5bc9-46c8-997c-2ba92cbb78ba",
   "metadata": {},
   "outputs": [],
   "source": []
  }
 ],
 "metadata": {
  "kernelspec": {
   "display_name": "Python 3",
   "language": "python",
   "name": "python3"
  },
  "language_info": {
   "codemirror_mode": {
    "name": "ipython",
    "version": 3
   },
   "file_extension": ".py",
   "mimetype": "text/x-python",
   "name": "python",
   "nbconvert_exporter": "python",
   "pygments_lexer": "ipython3",
   "version": "3.8.5"
  }
 },
 "nbformat": 4,
 "nbformat_minor": 5
}
