{
 "cells": [
  {
   "cell_type": "markdown",
   "id": "6388695d-d880-47d4-af5a-f09414384e83",
   "metadata": {},
   "source": [
    "### What is a Python Module?\n",
    "#### A module is a file containing Python code that we can use in our program. The file name is the module name with the suffix .py appended. \n"
   ]
  },
  {
   "cell_type": "code",
   "execution_count": 3,
   "id": "d92e127e-f946-442f-9ef0-d6c527be91a9",
   "metadata": {},
   "outputs": [],
   "source": [
    "# importing in-built math module\n",
    "import math "
   ]
  },
  {
   "cell_type": "code",
   "execution_count": 4,
   "id": "49a6f754-b71f-46fd-82e1-8f3f1acb6cee",
   "metadata": {},
   "outputs": [
    {
     "data": {
      "text/plain": [
       "\u001b[0;31mType:\u001b[0m        module\n",
       "\u001b[0;31mString form:\u001b[0m <module 'math' (built-in)>\n",
       "\u001b[0;31mDocstring:\u001b[0m  \n",
       "This module provides access to the mathematical functions\n",
       "defined by the C standard.\n"
      ]
     },
     "metadata": {},
     "output_type": "display_data"
    }
   ],
   "source": [
    "math?"
   ]
  },
  {
   "cell_type": "code",
   "execution_count": 5,
   "id": "4d9d68a4-4ff0-4177-b659-0643f3c3d018",
   "metadata": {},
   "outputs": [
    {
     "name": "stdout",
     "output_type": "stream",
     "text": [
      "Square Root of a is: 2.0\n"
     ]
    }
   ],
   "source": [
    "a = 4\n",
    "print(\"Square Root of a is:\", math.sqrt(a))"
   ]
  },
  {
   "cell_type": "code",
   "execution_count": 6,
   "id": "5464cd0d-15bd-4059-863c-6d171153feac",
   "metadata": {},
   "outputs": [
    {
     "name": "stdout",
     "output_type": "stream",
     "text": [
      "Ceil value of b is: 16\n",
      "Floor value of b is: 15\n"
     ]
    }
   ],
   "source": [
    "b = 15.2\n",
    "print(\"Ceil value of b is:\", math.ceil(b))\n",
    "print(\"Floor value of b is:\", math.floor(b))"
   ]
  },
  {
   "cell_type": "code",
   "execution_count": 7,
   "id": "feb69353-87c5-4844-8e04-dff776449930",
   "metadata": {},
   "outputs": [
    {
     "name": "stdout",
     "output_type": "stream",
     "text": [
      "Log of 10 base 2 is: 3.3219280948873626\n"
     ]
    }
   ],
   "source": [
    "print(\"Log of 10 base 2 is:\",math.log(10,2))"
   ]
  },
  {
   "cell_type": "markdown",
   "id": "0a34f627-1c29-455c-98c7-83ee19866e00",
   "metadata": {},
   "source": [
    "### Renaming a module \n",
    "#### Sometimes we don't want to use the full name of the module so we can import it using a different name\n"
   ]
  },
  {
   "cell_type": "code",
   "execution_count": 10,
   "id": "b45096b9-1ac3-4fce-bd44-fb294f37d425",
   "metadata": {},
   "outputs": [],
   "source": [
    "import math as m"
   ]
  },
  {
   "cell_type": "code",
   "execution_count": 11,
   "id": "a4a1a831-5505-42a8-9421-7eaac74235f6",
   "metadata": {},
   "outputs": [
    {
     "data": {
      "text/plain": [
       "\u001b[0;31mType:\u001b[0m        module\n",
       "\u001b[0;31mString form:\u001b[0m <module 'math' (built-in)>\n",
       "\u001b[0;31mDocstring:\u001b[0m  \n",
       "This module provides access to the mathematical functions\n",
       "defined by the C standard.\n"
      ]
     },
     "metadata": {},
     "output_type": "display_data"
    }
   ],
   "source": [
    "m?"
   ]
  },
  {
   "cell_type": "code",
   "execution_count": 12,
   "id": "3b833173-6fab-4336-a4c3-aff1b1a1cfa0",
   "metadata": {},
   "outputs": [],
   "source": [
    "# This will be useful when we use libraries like numpy and pandas\n",
    "import numpy as np\n",
    "import pandas as pd"
   ]
  },
  {
   "cell_type": "markdown",
   "id": "6059ffb5-5268-496b-a540-8b3db0ae07a5",
   "metadata": {},
   "source": [
    "#### We can also import specific functions from a module without importing the whole module"
   ]
  },
  {
   "cell_type": "code",
   "execution_count": 13,
   "id": "f5ad0fc5-50c3-436b-84d5-2c0066934451",
   "metadata": {},
   "outputs": [],
   "source": [
    "from math import sqrt"
   ]
  },
  {
   "cell_type": "code",
   "execution_count": 14,
   "id": "995bf36a-74af-414e-bcd0-059813dd4b61",
   "metadata": {},
   "outputs": [
    {
     "name": "stdout",
     "output_type": "stream",
     "text": [
      "2.0\n"
     ]
    }
   ],
   "source": [
    "print(sqrt(a))"
   ]
  },
  {
   "cell_type": "markdown",
   "id": "1561a40e-20e0-4a24-a132-43bb24839bb0",
   "metadata": {},
   "source": [
    "#### Custom Modules: We can also create our own modules. Just create a .py file and import it. (I have created a hello.py file in the same folder.)"
   ]
  },
  {
   "cell_type": "code",
   "execution_count": 15,
   "id": "e6ef029b-0422-456c-893c-e70732552f4a",
   "metadata": {},
   "outputs": [],
   "source": [
    "import hello"
   ]
  },
  {
   "cell_type": "code",
   "execution_count": 16,
   "id": "82417cc7-e376-41d6-8cdc-3aac0f3eb2cf",
   "metadata": {},
   "outputs": [
    {
     "name": "stdout",
     "output_type": "stream",
     "text": [
      "Hello, World!\n"
     ]
    }
   ],
   "source": [
    "print(hello.Hey())"
   ]
  },
  {
   "cell_type": "code",
   "execution_count": 17,
   "id": "3b92f525-c325-4c0f-acf0-dea068423bee",
   "metadata": {},
   "outputs": [
    {
     "name": "stdout",
     "output_type": "stream",
     "text": [
      "How are you?\n"
     ]
    }
   ],
   "source": [
    "print(hello.ask())"
   ]
  },
  {
   "cell_type": "code",
   "execution_count": null,
   "id": "7312fbcd-c628-4227-a173-230f5917961e",
   "metadata": {},
   "outputs": [],
   "source": []
  }
 ],
 "metadata": {
  "kernelspec": {
   "display_name": "Python 3",
   "language": "python",
   "name": "python3"
  },
  "language_info": {
   "codemirror_mode": {
    "name": "ipython",
    "version": 3
   },
   "file_extension": ".py",
   "mimetype": "text/x-python",
   "name": "python",
   "nbconvert_exporter": "python",
   "pygments_lexer": "ipython3",
   "version": "3.8.5"
  }
 },
 "nbformat": 4,
 "nbformat_minor": 5
}
