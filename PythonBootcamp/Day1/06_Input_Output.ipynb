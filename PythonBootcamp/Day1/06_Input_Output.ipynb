{
 "cells": [
  {
   "cell_type": "markdown",
   "id": "ca323412-5bcb-4e3a-bb08-7d02169f4570",
   "metadata": {},
   "source": [
    "#### For taking input, we use input() function. We use print() function for output"
   ]
  },
  {
   "cell_type": "code",
   "execution_count": 11,
   "id": "f76700d4-7de3-4ba2-9d24-1e2e7a6d319d",
   "metadata": {},
   "outputs": [
    {
     "name": "stdin",
     "output_type": "stream",
     "text": [
      "Enter your name:  Ruchi Jain\n"
     ]
    }
   ],
   "source": [
    "name = input(\"Enter your name: \")"
   ]
  },
  {
   "cell_type": "code",
   "execution_count": 12,
   "id": "4cb7a18a-4a6e-4291-9983-f2f0b5b4aa6a",
   "metadata": {},
   "outputs": [
    {
     "name": "stdout",
     "output_type": "stream",
     "text": [
      "My name is Ruchi Jain\n"
     ]
    }
   ],
   "source": [
    "print(\"My name is\", name)"
   ]
  },
  {
   "cell_type": "code",
   "execution_count": 13,
   "id": "8a9e108c-8b62-4245-97fc-52b3695806ab",
   "metadata": {},
   "outputs": [
    {
     "name": "stdin",
     "output_type": "stream",
     "text": [
      "Enter a number:  4\n"
     ]
    }
   ],
   "source": [
    "num1 = input(\"Enter a number: \")"
   ]
  },
  {
   "cell_type": "code",
   "execution_count": 14,
   "id": "c9777fba-5a40-4f7b-9e9b-4d666e7a10c3",
   "metadata": {},
   "outputs": [
    {
     "name": "stdout",
     "output_type": "stream",
     "text": [
      "<class 'str'>\n"
     ]
    }
   ],
   "source": [
    "print(type(num1)) # Python take all input as string by default"
   ]
  },
  {
   "cell_type": "code",
   "execution_count": 15,
   "id": "eefaff77-6b3e-4b89-ab40-215107c627a0",
   "metadata": {},
   "outputs": [
    {
     "name": "stdin",
     "output_type": "stream",
     "text": [
      "Enter a number:  4\n"
     ]
    },
    {
     "name": "stdout",
     "output_type": "stream",
     "text": [
      "<class 'int'>\n"
     ]
    }
   ],
   "source": [
    "# to take input as different datatype we have to do typecasting\n",
    "num2 = int(input(\"Enter a number: \"))\n",
    "print(type(num2))"
   ]
  },
  {
   "cell_type": "code",
   "execution_count": 16,
   "id": "63e68a1b-7768-43e7-b89d-14c89456104c",
   "metadata": {},
   "outputs": [
    {
     "name": "stdin",
     "output_type": "stream",
     "text": [
      " 4\n",
      " 5\n"
     ]
    }
   ],
   "source": [
    "# two input statements take input in differnt lines\n",
    "a = int(input())\n",
    "b = int(input())"
   ]
  },
  {
   "cell_type": "code",
   "execution_count": 18,
   "id": "7e45b7fa-f461-4c92-8c71-3ba5454f33ac",
   "metadata": {},
   "outputs": [
    {
     "name": "stdin",
     "output_type": "stream",
     "text": [
      " 4 5\n"
     ]
    },
    {
     "name": "stdout",
     "output_type": "stream",
     "text": [
      "a =  4\n",
      "b =  5\n"
     ]
    }
   ],
   "source": [
    "# to take input in same line we use split function\n",
    "a, b = input().split()\n",
    "print(\"a = \", a)\n",
    "print(\"b = \", b) # right now the data types of a and b is string. We'll learn how to take integer input in one line in day3"
   ]
  },
  {
   "cell_type": "code",
   "execution_count": 19,
   "id": "2a52aa7b-1d96-49e5-a545-21892ef10c13",
   "metadata": {},
   "outputs": [
    {
     "name": "stdout",
     "output_type": "stream",
     "text": [
      "Magic\n",
      "Shop\n"
     ]
    }
   ],
   "source": [
    "# two print statements print in different lines\n",
    "print(\"Magic\")\n",
    "print(\"Shop\")"
   ]
  },
  {
   "cell_type": "code",
   "execution_count": 20,
   "id": "b35af6fa-50bc-433c-8f5e-7013313ffc46",
   "metadata": {},
   "outputs": [
    {
     "name": "stdout",
     "output_type": "stream",
     "text": [
      "Magic Shop\n"
     ]
    }
   ],
   "source": [
    "# To print in the same line using two print statements, we have to use end=\"\"\n",
    "print(\"Magic\", end=\" \")\n",
    "print(\"Shop\")"
   ]
  },
  {
   "cell_type": "code",
   "execution_count": null,
   "id": "f0ffd768-54c8-4747-923c-2355b5d029e5",
   "metadata": {},
   "outputs": [],
   "source": []
  }
 ],
 "metadata": {
  "kernelspec": {
   "display_name": "Python 3",
   "language": "python",
   "name": "python3"
  },
  "language_info": {
   "codemirror_mode": {
    "name": "ipython",
    "version": 3
   },
   "file_extension": ".py",
   "mimetype": "text/x-python",
   "name": "python",
   "nbconvert_exporter": "python",
   "pygments_lexer": "ipython3",
   "version": "3.8.5"
  }
 },
 "nbformat": 4,
 "nbformat_minor": 5
}
