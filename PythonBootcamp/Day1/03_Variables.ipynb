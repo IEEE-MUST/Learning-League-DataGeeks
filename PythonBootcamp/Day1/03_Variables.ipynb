{
 "cells": [
  {
   "cell_type": "markdown",
   "id": "3e286cf4-6977-4c6c-a95b-0bb41cf05689",
   "metadata": {},
   "source": [
    "#### Variables: Variables are used to store values. Unlike other programming languages, we don't need to declare a variable with its data type in Python. A variable is created as soon as we assign a value to it."
   ]
  },
  {
   "cell_type": "code",
   "execution_count": 1,
   "id": "a4a77b21-eacd-42f0-ba45-a7efabc4da7c",
   "metadata": {},
   "outputs": [
    {
     "name": "stdout",
     "output_type": "stream",
     "text": [
      "The data type of x is: <class 'int'>\n"
     ]
    }
   ],
   "source": [
    "x = 4 # x is integer type\n",
    "print(\"The data type of x is:\",type(x)) # type() function is used to find type of an object"
   ]
  },
  {
   "cell_type": "code",
   "execution_count": 2,
   "id": "ee56646d-441c-4783-a2ec-cd8a08edf3fb",
   "metadata": {},
   "outputs": [
    {
     "name": "stdout",
     "output_type": "stream",
     "text": [
      "The data type of y is: <class 'str'>\n"
     ]
    }
   ],
   "source": [
    "y = \"Harry Potter\" # y is string type\n",
    "print(\"The data type of y is:\",type(y)) "
   ]
  },
  {
   "cell_type": "markdown",
   "id": "ffe8a20a-f189-46df-abc4-fc72d7b142bb",
   "metadata": {},
   "source": [
    "#### Varible naming rules\n",
    "##### 1. Variable name must start with a letter or an underscore.\n",
    "##### 2. Variable name cannot start with a number\n",
    "##### 3. Variable name can only contain alpha-numeric characters and underscores (A-Z, a-z, 0-9 and _)\n",
    "##### 4. Variable names are case sensitive. (age, Age, and AGE are three different variables)\n",
    "##### 5. There can't be a space among variable names"
   ]
  },
  {
   "cell_type": "code",
   "execution_count": 3,
   "id": "38ed4bf5-ba4b-4175-9106-b54e32171748",
   "metadata": {},
   "outputs": [],
   "source": [
    "_abc_ = 123 #valid\n",
    "A_bc = 123 #valid"
   ]
  },
  {
   "cell_type": "code",
   "execution_count": 4,
   "id": "067d678c-d9ac-4414-831a-7643f7d968a9",
   "metadata": {},
   "outputs": [
    {
     "ename": "SyntaxError",
     "evalue": "invalid syntax (<ipython-input-4-6fb7711e6aea>, line 1)",
     "output_type": "error",
     "traceback": [
      "\u001b[0;36m  File \u001b[0;32m\"<ipython-input-4-6fb7711e6aea>\"\u001b[0;36m, line \u001b[0;32m1\u001b[0m\n\u001b[0;31m    1ab = 123 #invalid\u001b[0m\n\u001b[0m     ^\u001b[0m\n\u001b[0;31mSyntaxError\u001b[0m\u001b[0;31m:\u001b[0m invalid syntax\n"
     ]
    }
   ],
   "source": [
    "1ab = 123 #invalid"
   ]
  },
  {
   "cell_type": "code",
   "execution_count": 5,
   "id": "7e56d227-48f7-47f9-a885-074ab08b898d",
   "metadata": {},
   "outputs": [
    {
     "ename": "SyntaxError",
     "evalue": "invalid syntax (<ipython-input-5-96c80943fbf8>, line 1)",
     "output_type": "error",
     "traceback": [
      "\u001b[0;36m  File \u001b[0;32m\"<ipython-input-5-96c80943fbf8>\"\u001b[0;36m, line \u001b[0;32m1\u001b[0m\n\u001b[0;31m    ab$ = 123 #invalid\u001b[0m\n\u001b[0m      ^\u001b[0m\n\u001b[0;31mSyntaxError\u001b[0m\u001b[0;31m:\u001b[0m invalid syntax\n"
     ]
    }
   ],
   "source": [
    "ab$ = 123 #invalid"
   ]
  },
  {
   "cell_type": "code",
   "execution_count": 6,
   "id": "d4ca1499-cbd6-4418-b16c-f7491a6d017e",
   "metadata": {},
   "outputs": [
    {
     "ename": "SyntaxError",
     "evalue": "invalid syntax (<ipython-input-6-f955df351f1c>, line 1)",
     "output_type": "error",
     "traceback": [
      "\u001b[0;36m  File \u001b[0;32m\"<ipython-input-6-f955df351f1c>\"\u001b[0;36m, line \u001b[0;32m1\u001b[0m\n\u001b[0;31m    ab c = 123 #invalid\u001b[0m\n\u001b[0m       ^\u001b[0m\n\u001b[0;31mSyntaxError\u001b[0m\u001b[0;31m:\u001b[0m invalid syntax\n"
     ]
    }
   ],
   "source": [
    "ab c = 123 #invalid"
   ]
  },
  {
   "cell_type": "code",
   "execution_count": null,
   "id": "2c58fb17-4265-4101-8bbd-da9bb1e5275c",
   "metadata": {},
   "outputs": [],
   "source": []
  }
 ],
 "metadata": {
  "kernelspec": {
   "display_name": "Python 3",
   "language": "python",
   "name": "python3"
  },
  "language_info": {
   "codemirror_mode": {
    "name": "ipython",
    "version": 3
   },
   "file_extension": ".py",
   "mimetype": "text/x-python",
   "name": "python",
   "nbconvert_exporter": "python",
   "pygments_lexer": "ipython3",
   "version": "3.8.5"
  }
 },
 "nbformat": 4,
 "nbformat_minor": 5
}
