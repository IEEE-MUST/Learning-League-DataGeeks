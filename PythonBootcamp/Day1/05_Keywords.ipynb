{
 "cells": [
  {
   "cell_type": "markdown",
   "id": "047cb9a8-dc5a-4bd4-8d06-0eaef9c940cd",
   "metadata": {},
   "source": [
    "### Keywords: Python has a set of keywords that are reserved words that cannot be used as variable names, function names, or any other identifiers. Python keywords are special reserved words that have specific meanings and purposes and can’t be used for anything but those specific purposes. These keywords are always available—you’ll never have to import them into your code.\n"
   ]
  },
  {
   "cell_type": "code",
   "execution_count": 1,
   "id": "3271cb6d-b427-4bc2-81cc-9044240ba0ac",
   "metadata": {},
   "outputs": [],
   "source": [
    "# We'll import the keyword module to see what all keywords are there in Python\n",
    "import keyword"
   ]
  },
  {
   "cell_type": "code",
   "execution_count": 3,
   "id": "e3aba1cd-e0de-44ad-a280-078806f39e50",
   "metadata": {},
   "outputs": [
    {
     "name": "stdout",
     "output_type": "stream",
     "text": [
      "['False', 'None', 'True', 'and', 'as', 'assert', 'async', 'await', 'break', 'class', 'continue', 'def', 'del', 'elif', 'else', 'except', 'finally', 'for', 'from', 'global', 'if', 'import', 'in', 'is', 'lambda', 'nonlocal', 'not', 'or', 'pass', 'raise', 'return', 'try', 'while', 'with', 'yield']\n"
     ]
    }
   ],
   "source": [
    "print(keyword.kwlist) # To print the list containing all keywords"
   ]
  },
  {
   "cell_type": "code",
   "execution_count": 4,
   "id": "e99a1b51-7b99-44d1-ab07-b529b47cf1e2",
   "metadata": {},
   "outputs": [
    {
     "name": "stdout",
     "output_type": "stream",
     "text": [
      "False\n"
     ]
    }
   ],
   "source": [
    "print(keyword.iskeyword(\"print\")) # To find out whether a word is a keyword or not"
   ]
  },
  {
   "cell_type": "code",
   "execution_count": 5,
   "id": "333a8baa-f7ea-411d-a839-7e6bfe2ade73",
   "metadata": {},
   "outputs": [
    {
     "name": "stdout",
     "output_type": "stream",
     "text": [
      "True\n"
     ]
    }
   ],
   "source": [
    "print(keyword.iskeyword(\"if\"))"
   ]
  },
  {
   "cell_type": "code",
   "execution_count": 7,
   "id": "965f5a4e-1fbe-400e-93e8-1392c183c38d",
   "metadata": {},
   "outputs": [
    {
     "ename": "SyntaxError",
     "evalue": "invalid syntax (<ipython-input-7-f25f72b4a4d9>, line 2)",
     "output_type": "error",
     "traceback": [
      "\u001b[0;36m  File \u001b[0;32m\"<ipython-input-7-f25f72b4a4d9>\"\u001b[0;36m, line \u001b[0;32m2\u001b[0m\n\u001b[0;31m    and = 1 # syntax error because \"and\" is a keyword\u001b[0m\n\u001b[0m    ^\u001b[0m\n\u001b[0;31mSyntaxError\u001b[0m\u001b[0;31m:\u001b[0m invalid syntax\n"
     ]
    }
   ],
   "source": [
    "# We cannot use keyword as a variable name\n",
    "and = 1 # syntax error because \"and\" is a keyword"
   ]
  },
  {
   "cell_type": "code",
   "execution_count": null,
   "id": "2091e975-4acf-4bb7-b0e4-5fe5225cee72",
   "metadata": {},
   "outputs": [],
   "source": []
  }
 ],
 "metadata": {
  "kernelspec": {
   "display_name": "Python 3",
   "language": "python",
   "name": "python3"
  },
  "language_info": {
   "codemirror_mode": {
    "name": "ipython",
    "version": 3
   },
   "file_extension": ".py",
   "mimetype": "text/x-python",
   "name": "python",
   "nbconvert_exporter": "python",
   "pygments_lexer": "ipython3",
   "version": "3.8.5"
  }
 },
 "nbformat": 4,
 "nbformat_minor": 5
}
