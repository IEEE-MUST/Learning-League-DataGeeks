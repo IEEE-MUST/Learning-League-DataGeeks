{
 "cells": [
  {
   "cell_type": "markdown",
   "id": "b51e4f1a-f28d-488d-9d41-7c61764712e3",
   "metadata": {},
   "source": [
    "#### Arithmetic Operators"
   ]
  },
  {
   "cell_type": "code",
   "execution_count": 2,
   "id": "44b117a7-668e-4ae2-aa5d-7444dabc5812",
   "metadata": {},
   "outputs": [],
   "source": [
    "a = 5\n",
    "b = 2"
   ]
  },
  {
   "cell_type": "code",
   "execution_count": 3,
   "id": "abc03d65-abe3-41f3-bfd4-9540276c1ccd",
   "metadata": {},
   "outputs": [
    {
     "name": "stdout",
     "output_type": "stream",
     "text": [
      "Addition operator: 7\n",
      "Subtraction operator: 3\n",
      "Multiplication operator: 10\n",
      "Division operator: 2.5\n"
     ]
    }
   ],
   "source": [
    "print(\"Addition operator:\", a+b) #addition \n",
    "print(\"Subtraction operator:\", a-b) #subtraction\n",
    "print(\"Multiplication operator:\",a*b) #multiplication\n",
    "print(\"Division operator:\",a/b) #division"
   ]
  },
  {
   "cell_type": "code",
   "execution_count": 4,
   "id": "13f87d42-d08c-48e8-8c2a-4edbb4457ed3",
   "metadata": {},
   "outputs": [
    {
     "name": "stdout",
     "output_type": "stream",
     "text": [
      "Modulus operator: 1\n",
      "Exponent operator: 25\n",
      "Integer division: 2\n"
     ]
    }
   ],
   "source": [
    "print(\"Modulus operator:\",a%b) # gives remainder of division\n",
    "print(\"Exponent operator:\",a**b) # gives a to the power of b\n",
    "print(\"Integer division:\",a//b) #gives floor value of the quotient"
   ]
  },
  {
   "cell_type": "markdown",
   "id": "236b489f-08a5-4000-a5d6-95c524d8ef07",
   "metadata": {},
   "source": [
    "#### Relational Operators"
   ]
  },
  {
   "cell_type": "code",
   "execution_count": 5,
   "id": "c46ca7ed-507b-4c08-aca4-1bbf2ab376c9",
   "metadata": {},
   "outputs": [
    {
     "name": "stdout",
     "output_type": "stream",
     "text": [
      "Less than operator: False\n",
      "Greater than operator: True\n",
      "Less than or equal to operator: False\n",
      "Greater than or equal to operator: True\n",
      "Equal to operator: False\n",
      "Not equal to operator: True\n"
     ]
    }
   ],
   "source": [
    "print(\"Less than operator:\", a<b) #5<2\n",
    "print(\"Greater than operator:\",a>b) #5>2\n",
    "print(\"Less than or equal to operator:\", a<=b) #5<=2\n",
    "print(\"Greater than or equal to operator:\",a>=b) #5>=2\n",
    "print(\"Equal to operator:\", a==b) #5==2\n",
    "print(\"Not equal to operator:\",a!=b) #5!=2\n"
   ]
  },
  {
   "cell_type": "markdown",
   "id": "3a20f8b0-526e-4708-a6fc-10442c027bc7",
   "metadata": {},
   "source": [
    "#### Logical Operators"
   ]
  },
  {
   "cell_type": "code",
   "execution_count": 8,
   "id": "7473bbb5-f3e1-4b90-adee-e3cfff9b76e3",
   "metadata": {},
   "outputs": [
    {
     "name": "stdout",
     "output_type": "stream",
     "text": [
      "Logical and: True\n",
      "Logical or: True\n",
      "Logical not: False\n"
     ]
    }
   ],
   "source": [
    "# and -> checks conditions and return true only if all the conditions are true. \n",
    "print(\"Logical and:\", a>b and a==5)\n",
    "# or -> checks conditions and return true even if one condition is true\n",
    "print(\"Logical or:\", a<b or b==2)\n",
    "# not -> reverse the output of logical condition. If a condition is true it will return false\n",
    "print(\"Logical not:\", not a==5)"
   ]
  },
  {
   "cell_type": "markdown",
   "id": "42ea49c3-cad1-4c0c-985a-2c03b3de7b6d",
   "metadata": {},
   "source": [
    "#### Identity operators : Used to determine whether a value is of certain class or type. We can use the identity operators with the built-in type() function to ensure that we are working with the specific variable type."
   ]
  },
  {
   "cell_type": "code",
   "execution_count": 11,
   "id": "29923edc-f16c-41ac-9ea3-25dd726eef00",
   "metadata": {},
   "outputs": [
    {
     "name": "stdout",
     "output_type": "stream",
     "text": [
      "is operator: True\n",
      "is not operator: False\n"
     ]
    }
   ],
   "source": [
    "# is operator: returns true if both variables are the same object\n",
    "print(\"is operator:\", type(a) is int)\n",
    "# is not operator: returns true if both variables are not the same object\n",
    "print(\"is not operator:\", type(a) is not type(b))"
   ]
  },
  {
   "cell_type": "markdown",
   "id": "2b2bb334-7b06-432e-b93c-da566f1aa216",
   "metadata": {},
   "source": [
    "#### Membership Operator"
   ]
  },
  {
   "cell_type": "code",
   "execution_count": 13,
   "id": "5130c76f-c898-4be4-8111-b174ac727a5b",
   "metadata": {},
   "outputs": [
    {
     "name": "stdout",
     "output_type": "stream",
     "text": [
      "in operator: True\n",
      "not in operator: False\n"
     ]
    }
   ],
   "source": [
    "# in operator: returns true if the element is found otherwise false\n",
    "lis = [1,2,3,4,5]\n",
    "print(\"in operator:\", a in lis)\n",
    "# not in operator: returns true if the element is not found otherwise false\n",
    "print(\"not in operator:\", b not in lis)"
   ]
  },
  {
   "cell_type": "markdown",
   "id": "5413b672-66f0-4bca-9d7c-46fe01a97f9f",
   "metadata": {},
   "source": [
    "#### Bitwise Operators: compare binary number"
   ]
  },
  {
   "cell_type": "code",
   "execution_count": 14,
   "id": "b9a34b68-5f7e-4da4-84da-3dd58e02e735",
   "metadata": {},
   "outputs": [],
   "source": [
    "# a = 5 (decimal) and 101 (binary)\n",
    "# b = 2 (decimal) and 010 (binary)"
   ]
  },
  {
   "cell_type": "code",
   "execution_count": 21,
   "id": "56e467ab-5b66-4644-968e-efe032f8bdad",
   "metadata": {},
   "outputs": [
    {
     "name": "stdout",
     "output_type": "stream",
     "text": [
      "& AND operator: 0\n",
      "| OR operator: 7\n",
      "^ XOR operator: 7\n",
      "~ NOT operator: -6\n"
     ]
    }
   ],
   "source": [
    "# & operator: sets each bit to 1 if both bits are 1\n",
    "print(\"& AND operator:\", a & b) # 101 & 010 = 000 = 0 in decimal\n",
    "# | operator: sets each bit to 1 if one of the bits is 1\n",
    "print(\"| OR operator:\",a | b) # 101 | 010 = 111 = 7 in decimal\n",
    "# ^ operator: sets each bit to 1 if only one of the two bits is 1\n",
    "print(\"^ XOR operator:\", a ^ b) # 101 ^ 010 = 111 = 7 in decimal\n",
    "# ~ operator: returns one's complement of the number\n",
    "print(\"~ NOT operator:\", ~ a) # ~101 = -(101 + 1) = -6 in decimal"
   ]
  },
  {
   "cell_type": "code",
   "execution_count": 24,
   "id": "c687abff-fd61-4aff-9c8b-86a69ff5e837",
   "metadata": {},
   "outputs": [
    {
     "name": "stdout",
     "output_type": "stream",
     "text": [
      "Left shift << operator: 10\n",
      "Right shift >> operator: 2\n"
     ]
    }
   ],
   "source": [
    "# << operator: Shifts the bits of the number to the left and fills 0 on voids left as a result. Similar effect as of multiplying the number with some power of two.\n",
    "print(\"Left shift << operator:\", a << 1) # 0101 << 1 = 1010 = 10 in decimal\n",
    "# >> operator: Shifts the bits of the number to the right and fills 0 on voids left as a result. Similar effect as of dividing the number with some power of two.\n",
    "print(\"Right shift >> operator:\", a >> 1) # 0101 >> 1 = 0010 = 2 in decimal"
   ]
  },
  {
   "cell_type": "markdown",
   "id": "8e7a6e56-233b-4195-9177-a3238411f725",
   "metadata": {},
   "source": [
    "#### Assignment Operators"
   ]
  },
  {
   "cell_type": "code",
   "execution_count": 30,
   "id": "5428b6d8-c349-4a36-aa53-685e2c0a79b0",
   "metadata": {},
   "outputs": [
    {
     "name": "stdout",
     "output_type": "stream",
     "text": [
      "= operator: 7\n",
      "+= operator: 17\n",
      "-= operator: 7\n",
      "*= operator: 70\n",
      "/= operator: 7.0\n",
      "%= operator: 2.0\n",
      "**= operator: 4.0\n",
      "//= operator: 1.0\n"
     ]
    }
   ],
   "source": [
    "c = a + b # 5+2= 7\n",
    "print(\"= operator:\", c)\n",
    "c += 10 # 7+10 = 17\n",
    "print(\"+= operator:\", c)\n",
    "c -= 10 # 17-10 = 7\n",
    "print(\"-= operator:\", c)\n",
    "c *= 10 # 7*10 = 70\n",
    "print(\"*= operator:\", c)\n",
    "c /= 10 # 70/10 = 7.0\n",
    "print(\"/= operator:\",c)\n",
    "c %= 5 # 7%5 = 2\n",
    "print(\"%= operator:\",c)\n",
    "c **= 2 # 2**2 = 4\n",
    "print(\"**= operator:\", c)\n",
    "c //= 3 # 4//3 = 1\n",
    "print(\"//= operator:\",c)"
   ]
  },
  {
   "cell_type": "code",
   "execution_count": null,
   "id": "14739fed-214f-4f10-ab19-59d34ec732a4",
   "metadata": {},
   "outputs": [],
   "source": []
  }
 ],
 "metadata": {
  "kernelspec": {
   "display_name": "Python 3",
   "language": "python",
   "name": "python3"
  },
  "language_info": {
   "codemirror_mode": {
    "name": "ipython",
    "version": 3
   },
   "file_extension": ".py",
   "mimetype": "text/x-python",
   "name": "python",
   "nbconvert_exporter": "python",
   "pygments_lexer": "ipython3",
   "version": "3.8.5"
  }
 },
 "nbformat": 4,
 "nbformat_minor": 5
}
